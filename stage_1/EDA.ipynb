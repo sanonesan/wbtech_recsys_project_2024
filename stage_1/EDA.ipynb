{
 "cells": [
  {
   "cell_type": "markdown",
   "metadata": {},
   "source": [
    "# WB RecSys Project\n",
    "\n",
    "# Общее описание проекта\n",
    "\n",
    "Необходимо на основании взаимодействий пользователей с товарами предсказать следующие взаимодействия пользователей с товарами.\n",
    "\n",
    "# Stage 1\n",
    "\n",
    "- Проработать проблематику (в чем смысл для бизнеса)\n",
    "- Грамотно формализовать задачу\n",
    "- Проанализировать имеющиеся данные и оценить их пригодность для решения поставленной задачи\n",
    "- Провести первичный разведочный анализ данных (EDA)"
   ]
  },
  {
   "cell_type": "markdown",
   "metadata": {},
   "source": [
    "# Проблематика\n",
    "\n",
    "## Тезисы\n",
    "1. WB &mdash; маркетплейс по продаже различных товаров.\n",
    "2. Цель бизнеса &mdash; извлечение наибольшей прибыли. \n",
    "3. На WB много конкурирующих продавцов.\n",
    "4. Информация о предпочтениях и будущих покупках пользователей\n",
    "позволит продавцу заработать на релевантных товарах и не разориться на убыточных.\n",
    "\n",
    "## Развернутое пояснение тезисов и проблематики\n",
    "\n",
    "Как правило, продавцы специализируются на одной категории товаров, занимают свою нишу, в которой необходимо быть, если не лучшими и единственными, то одними из лучших для получения значимой прибыли. \n",
    "Следовательно, необходим анализ рынка товаров, необходимо знать свою целевую аудиториию и ее потребности, чтобы грамотно распределять средства: вовремя закупать товары, сокращать их поставки или изымать из товарооборота как неликвидные. \n",
    "\n",
    "## Задача\n",
    "\n",
    "Необходимо предоставить инструмент, способный помочь бизнесу в анализе релевантности товаров, дать оценку ликвидности имеющихся изделий на витрине, дать возможность спрогнозировать тренд.\n",
    "\n",
    "### Фомулировка в терминах ML\n",
    "\n",
    "Требуется составить рекомендательную ML-модель, которая будет отвечать на вопрос: \"Что пользователь купит дальше?\"; построить рекомендательную систему, которая основывается на взаимодействии пользователя с товаром и выдает возможные варианты следующих взаимодействий."
   ]
  },
  {
   "cell_type": "markdown",
   "metadata": {},
   "source": [
    "# Импорт библиотек"
   ]
  },
  {
   "cell_type": "code",
   "execution_count": null,
   "metadata": {},
   "outputs": [],
   "source": [
    "import numpy as np\n",
    "import pandas as pd\n",
    "import pyarrow.parquet as pq\n",
    "import dill\n",
    "\n",
    "import matplotlib.pyplot as plt\n",
    "import matplotlib.ticker as mticker\n",
    "\n",
    "import seaborn as sns\n",
    "\n",
    "# USE THIS STYLE\n",
    "# plt.style.use('https://github.com/dhaitz/matplotlib-stylesheets/raw/master/pitayasmoothie-light.mplstyle')\n",
    "# \n",
    "# OR THIS STYLE\n",
    "import aquarel\n",
    "\n",
    "import warnings\n",
    "\n",
    "warnings.filterwarnings(\"ignore\")\n",
    "\n",
    "theme = aquarel.load_theme(\"arctic_light\")\n",
    "theme.set_font(family=\"serif\")\n",
    "theme.apply()\n",
    "\n",
    "# Сделаем автоподгрузку всех изменений при перепрогонке ячейки\n",
    "%load_ext autoreload\n",
    "%autoreload 2\n",
    "\n",
    "%matplotlib inline"
   ]
  },
  {
   "cell_type": "markdown",
   "metadata": {},
   "source": [
    "# Данные"
   ]
  },
  {
   "cell_type": "markdown",
   "metadata": {},
   "source": [
    "Предоставлено три архива с данными. Рассмотрим каждый из них по отдельности и сделаем вывод по каждому архиву данных.\n"
   ]
  },
  {
   "cell_type": "markdown",
   "metadata": {},
   "source": [
    "Путь до данных"
   ]
  },
  {
   "cell_type": "code",
   "execution_count": null,
   "metadata": {},
   "outputs": [],
   "source": [
    "data_path = \"../data_closed/\""
   ]
  },
  {
   "cell_type": "markdown",
   "metadata": {},
   "source": [
    "## train data"
   ]
  },
  {
   "cell_type": "markdown",
   "metadata": {},
   "source": [
    "### Чтение "
   ]
  },
  {
   "cell_type": "code",
   "execution_count": null,
   "metadata": {},
   "outputs": [],
   "source": [
    "df_train = pq.read_table(data_path + \"train_data_10_10_24_10_11_24_final.parquet\")"
   ]
  },
  {
   "cell_type": "markdown",
   "metadata": {},
   "source": [
    "### Посмотрим, что мы загрузили"
   ]
  },
  {
   "cell_type": "code",
   "execution_count": null,
   "metadata": {},
   "outputs": [],
   "source": [
    "df_train"
   ]
  },
  {
   "cell_type": "markdown",
   "metadata": {},
   "source": [
    "Похоже на таблицу взаимодействия пользователей и товаров (interactions table)"
   ]
  },
  {
   "cell_type": "markdown",
   "metadata": {},
   "source": [
    "Преобразуем в более удобный формат для просмотра данных (pandas)"
   ]
  },
  {
   "cell_type": "code",
   "execution_count": null,
   "metadata": {},
   "outputs": [],
   "source": [
    "interactions_df = pd.DataFrame(df_train.to_pandas())\n",
    "display(interactions_df)\n",
    "display(interactions_df.dtypes)"
   ]
  },
  {
   "cell_type": "markdown",
   "metadata": {},
   "source": [
    "Да, это таблица взаимодействий пользователей с айтемами. \n",
    "\n",
    "> ### Комментарий\n",
    "> По одной одной этой таблице уже можно выдать рекомендации по взаимодействиям (пригодность данных &mdash; approved ✅)\n",
    "\n",
    "Отметим, что subject_id похоже один и тот же для всех строк &mdash; проверим это: "
   ]
  },
  {
   "cell_type": "code",
   "execution_count": null,
   "metadata": {},
   "outputs": [],
   "source": [
    "interactions_df[\"subject_id\"].unique()"
   ]
  },
  {
   "cell_type": "markdown",
   "metadata": {},
   "source": [
    "Сократим размерность, дропнув столбец subject_id (константное значение)"
   ]
  },
  {
   "cell_type": "code",
   "execution_count": null,
   "metadata": {},
   "outputs": [],
   "source": [
    "interactions_df = interactions_df.drop(columns=[\"subject_id\"])"
   ]
  },
  {
   "cell_type": "markdown",
   "metadata": {},
   "source": [
    "Следовательно, можно заключить, что номер \"69020\" &mdash; это внутренняя кодировка для категории товара. Теперь появилось представление за что отвечает каждое поле в таблице: \n",
    "\n",
    "\n",
    "|    Поле    |                      Значение                      |\n",
    "| :--------: | :------------------------------------------------: |\n",
    "| wbuser_id  |                  id пользователя                   |\n",
    "|   nm_id    |                     id товара                      |\n",
    "| subject_id |                id категории товара                 |\n",
    "|     dt     | дата и время взаимодействия пользователя с товаром |\n",
    "|    date    |     дата взаимодействия пользователя с товаром     |\n",
    "\n",
    "\n",
    "\n",
    "Значит, будет строиться модель для предсказания взаимодейсвия пользователя с конкретным товаром.\n",
    "\n"
   ]
  },
  {
   "cell_type": "markdown",
   "metadata": {},
   "source": [
    "Для удобства переименуем колонки\n",
    "- `wbuser_id` $\\rightarrow$ `user_id`\n",
    "- `nm_id` $\\rightarrow$ `item_id`"
   ]
  },
  {
   "cell_type": "code",
   "execution_count": null,
   "metadata": {},
   "outputs": [],
   "source": [
    "# Переименовываем колонки\n",
    "interactions_df = interactions_df.rename(\n",
    "    columns={\n",
    "        \"wbuser_id\": \"user_id\",\n",
    "        \"nm_id\": \"item_id\",\n",
    "    }\n",
    ")"
   ]
  },
  {
   "cell_type": "markdown",
   "metadata": {},
   "source": [
    "Посмотрим в принципе на количество уникальных значений для столбцов user_id, item_id, для столбцов отвечающих за дату и время посмотрим промежутки за которые предоставлены данные.  "
   ]
  },
  {
   "cell_type": "code",
   "execution_count": null,
   "metadata": {},
   "outputs": [],
   "source": [
    "interactions_df[\"user_id\"].unique().shape"
   ]
  },
  {
   "cell_type": "markdown",
   "metadata": {},
   "source": [
    "~ 4 млн пользователей "
   ]
  },
  {
   "cell_type": "code",
   "execution_count": null,
   "metadata": {},
   "outputs": [],
   "source": [
    "interactions_df[\"item_id\"].unique().shape"
   ]
  },
  {
   "cell_type": "markdown",
   "metadata": {},
   "source": [
    "~ 400 тыс. товаров "
   ]
  },
  {
   "cell_type": "code",
   "execution_count": null,
   "metadata": {},
   "outputs": [],
   "source": [
    "print(f\"min_date = {interactions_df['dt'].min()}\")\n",
    "print(f\"max_date = {interactions_df['dt'].max()}\")"
   ]
  },
  {
   "cell_type": "markdown",
   "metadata": {},
   "source": [
    "Данные из датасета собраны за два дня."
   ]
  },
  {
   "cell_type": "markdown",
   "metadata": {},
   "source": [
    "Дропнем столбец date, т.к. он по сути дублирует столбец dt"
   ]
  },
  {
   "cell_type": "code",
   "execution_count": null,
   "metadata": {},
   "outputs": [],
   "source": [
    "interactions_df = interactions_df.drop(columns=[\"date\"])"
   ]
  },
  {
   "cell_type": "markdown",
   "metadata": {},
   "source": [
    "### Посмотрим на полноту данных (наличие NaN значений в таблице):"
   ]
  },
  {
   "cell_type": "code",
   "execution_count": null,
   "metadata": {},
   "outputs": [],
   "source": [
    "interactions_df.isnull().any()"
   ]
  },
  {
   "cell_type": "markdown",
   "metadata": {},
   "source": [
    "Все поля таблицы заполнены."
   ]
  },
  {
   "cell_type": "markdown",
   "metadata": {},
   "source": [
    "### Добавим дополнительные параметры по взаимодействиям юзеров с товарами"
   ]
  },
  {
   "cell_type": "markdown",
   "metadata": {},
   "source": [
    "Добавим количество взаимодействий пользователя с определенным товаром (`user_item_count`) и отношение этого количества к общему числу взаимодействий пользователя (получится рейтинг товара для пользователя `user_item_rating`) со всеми товарами за данный промежуток.\n",
    "Так же добавим колонку с количеством интеракций товара среди всех позльователей (`item_count`) и отношение этого количества к числу всех интеракций (`item_rating`). \n",
    "\n",
    "> ### Комментарий\n",
    "> Данные фитчи помогут проанализировать популярность товара для конекретного пользователя (локальный рейтинг) и составить общий рейтинг товара.\n",
    "> Данные фитчи так же помогут в будущем при составлении ML-модели."
   ]
  },
  {
   "cell_type": "markdown",
   "metadata": {},
   "source": [
    "Так же дропнем столбец dt, т.к. он не существенен для дальнейшего анализа. \n",
    "Он потребуется в будущем, чтобы разделить данные при построении модели. "
   ]
  },
  {
   "cell_type": "code",
   "execution_count": null,
   "metadata": {},
   "outputs": [],
   "source": [
    "interactions_df = interactions_df.drop(columns=[\"dt\"])"
   ]
  },
  {
   "cell_type": "markdown",
   "metadata": {},
   "source": [
    "Теперь получится сократить размерность данных, т.к. существуют повторы взаимодействия пользователя с товарами: добавим новую колонку с количеством интеракций пользователя с конкретным товаром."
   ]
  },
  {
   "cell_type": "code",
   "execution_count": null,
   "metadata": {},
   "outputs": [],
   "source": [
    "interactions_df = (\n",
    "    interactions_df.groupby([\"user_id\", \"item_id\"])\n",
    "    .agg(\n",
    "        {\n",
    "            \"item_id\": \"count\",\n",
    "        }\n",
    "    )\n",
    "    .rename(\n",
    "        columns={\n",
    "            \"item_id\": \"user_item_count\",\n",
    "        }\n",
    "    )\n",
    "    .reset_index()\n",
    ")\n",
    "interactions_df"
   ]
  },
  {
   "cell_type": "markdown",
   "metadata": {},
   "source": [
    "Составим user_item_rating, для этого посчитаем количество всех взаимодейстий пользователя"
   ]
  },
  {
   "cell_type": "code",
   "execution_count": null,
   "metadata": {},
   "outputs": [],
   "source": [
    "total_users_interactions_count = (\n",
    "    interactions_df[[\"user_id\", \"user_item_count\"]]\n",
    "    .groupby(\"user_id\")\n",
    "    .sum()\n",
    "    .rename(\n",
    "        columns={\n",
    "            \"user_item_count\": \"user_inter_count\",\n",
    "        }\n",
    "    )\n",
    ")\n",
    "total_users_interactions_count"
   ]
  },
  {
   "cell_type": "markdown",
   "metadata": {},
   "source": [
    "и разделим user_item_count на user_inter_count"
   ]
  },
  {
   "cell_type": "code",
   "execution_count": null,
   "metadata": {},
   "outputs": [],
   "source": [
    "interactions_df = interactions_df.join(\n",
    "    total_users_interactions_count,\n",
    "    on=\"user_id\",\n",
    "    how=\"left\",\n",
    ")\n",
    "interactions_df[\"user_item_rating\"] = interactions_df[\"user_item_count\"] / interactions_df[\"user_inter_count\"]\n",
    "interactions_df"
   ]
  },
  {
   "cell_type": "markdown",
   "metadata": {},
   "source": [
    "Посчитаем количество взаимодействий с определенным товаром (`item_count`)"
   ]
  },
  {
   "cell_type": "markdown",
   "metadata": {},
   "source": [
    "на его основе расчитаем рейтинг товара (`item_rating`)"
   ]
  },
  {
   "cell_type": "code",
   "execution_count": null,
   "metadata": {},
   "outputs": [],
   "source": [
    "item_rating_df = (\n",
    "    interactions_df[[\"item_id\", \"user_item_count\"]]\n",
    "    .groupby(\"item_id\")\n",
    "    .sum()\n",
    "    .rename(\n",
    "        columns={\n",
    "            \"user_item_count\": \"item_count\",\n",
    "        }\n",
    "    )\n",
    ")\n",
    "item_rating_df[\"item_rating\"] = (\n",
    "    item_rating_df[\"item_count\"] / item_rating_df.shape[0]\n",
    ")\n",
    "item_rating_df = item_rating_df.reset_index()"
   ]
  },
  {
   "cell_type": "markdown",
   "metadata": {},
   "source": [
    "### Итого имеем две таблицы: \n",
    "1. Таблица взаимодействий пользователей с товарами, содержащая веса товаров для каждого отдельного пользователя\n",
    "2. Таблица с общей популярностью (рейтингом) товаров"
   ]
  },
  {
   "cell_type": "code",
   "execution_count": null,
   "metadata": {},
   "outputs": [],
   "source": [
    "display(interactions_df)\n",
    "display(item_rating_df)"
   ]
  },
  {
   "cell_type": "markdown",
   "metadata": {},
   "source": [
    "Теперь можно получить топ самых популярных товаров по каждом пользователю и топ самых популярных товаров в принципе. \n",
    "\n",
    "Если `user_item_count`, `user_item_rating` это фитчи относящиеся чисто к взаимодействию пользователей с товаром, то `item_rating` можно использовать как фитчу товара (по аналогии с рейтингом IMDB для фильмов).\n",
    "\n",
    "> ### Комментарий\n",
    "> Значения данных столбцов придется пересчитать, когда будет строится модель, т.к. там будет происходить разбиение данных на train, test по времени.\n"
   ]
  },
  {
   "cell_type": "markdown",
   "metadata": {},
   "source": [
    "Отсортируем айтемы по популярности: "
   ]
  },
  {
   "cell_type": "code",
   "execution_count": null,
   "metadata": {},
   "outputs": [],
   "source": [
    "item_rating_df = item_rating_df.sort_values(\"item_rating\", ascending=False)\n",
    "item_rating_df"
   ]
  },
  {
   "cell_type": "markdown",
   "metadata": {},
   "source": [
    "Теперь можно вывести топы популярных товаров"
   ]
  },
  {
   "cell_type": "markdown",
   "metadata": {},
   "source": [
    "Топ 10 самых популярных товаров среди пользователей: "
   ]
  },
  {
   "cell_type": "code",
   "execution_count": null,
   "metadata": {},
   "outputs": [],
   "source": [
    "item_rating_df.head(10)"
   ]
  },
  {
   "cell_type": "markdown",
   "metadata": {},
   "source": [
    "За два дня этими товарами взаимодействовали более 20 тыс. раз"
   ]
  },
  {
   "cell_type": "markdown",
   "metadata": {},
   "source": [
    "### Вывод по данным train data\n",
    "\n",
    "Из этого датасета удается получить качественнную таблицу взаимодействий пользователей с товарами. Также хорошо, что можно получить рейтинг товара (условный вес) как для всех пользователей, так и для каждого индивидуально. \n",
    "\n",
    "**Только по таблице взаимодействий уже можно нагенерить предсказания о следующих взаимодействиях пользователя с товарами.**"
   ]
  },
  {
   "cell_type": "markdown",
   "metadata": {},
   "source": [
    "Сохраним таблицы в бинарник"
   ]
  },
  {
   "cell_type": "code",
   "execution_count": null,
   "metadata": {},
   "outputs": [],
   "source": [
    "with open(data_path + \"interactions.dill\", \"wb\") as f:\n",
    "    dill.dump(interactions_df, f)\n",
    "\n",
    "with open(data_path + \"item_rating.dill\", \"wb\") as f:\n",
    "    dill.dump(item_rating_df, f)"
   ]
  },
  {
   "cell_type": "markdown",
   "metadata": {},
   "source": [
    "## text data"
   ]
  },
  {
   "cell_type": "markdown",
   "metadata": {},
   "source": [
    "### Чтение данных"
   ]
  },
  {
   "cell_type": "code",
   "execution_count": null,
   "metadata": {},
   "outputs": [],
   "source": [
    "df_text_pq = pq.read_table(data_path + \"text_data_69020_final.parquet\")"
   ]
  },
  {
   "cell_type": "markdown",
   "metadata": {},
   "source": [
    "Возьмем только первый батч, чтобы посмотреть содержание таблицы \n",
    "\n",
    "> опытным путем было выяснено, что вся таблица в формате pandas не умещается в ОЗУ "
   ]
  },
  {
   "cell_type": "code",
   "execution_count": null,
   "metadata": {},
   "outputs": [],
   "source": [
    "df_text_pd = df_text_pq.to_batches()[0].to_pandas()"
   ]
  },
  {
   "cell_type": "code",
   "execution_count": null,
   "metadata": {},
   "outputs": [],
   "source": [
    "df_text_pd"
   ]
  },
  {
   "cell_type": "markdown",
   "metadata": {},
   "source": [
    "> Из поля `title` стало понятно, что `subject_id = 69020` из таблицы `train_data`, это кодировка для платьев.\n",
    "\n",
    "Для данной таблицы имеем следующие поля\n",
    "\n",
    "|      Поле       |       Значение        |\n",
    "| :-------------: | :-------------------: |\n",
    "|      title      |    название товара    |\n",
    "|    brandname    |    название бренда    |\n",
    "|      nm_id      |       id товара       |\n",
    "| characteristics | характеристики товара |\n",
    "|   description   |    описание товара    |\n",
    "\n"
   ]
  },
  {
   "cell_type": "markdown",
   "metadata": {},
   "source": [
    "### Подробнее рассмотрим колонку chatacteristics"
   ]
  },
  {
   "cell_type": "markdown",
   "metadata": {},
   "source": [
    "Подробнее рассмотрим характеристики товаров.\n",
    "Выведем характеристики для 0, 10, 100 айтемов"
   ]
  },
  {
   "cell_type": "code",
   "execution_count": null,
   "metadata": {},
   "outputs": [],
   "source": [
    "df_text_pd.iloc[0][\"characteristics\"], df_text_pd.iloc[10][\"characteristics\"], df_text_pd.iloc[100][\"characteristics\"]"
   ]
  },
  {
   "cell_type": "markdown",
   "metadata": {},
   "source": [
    "> Это массивы соварей, следовательно, при составлении модели и подготовке данных значения из этих колонок придется парсить."
   ]
  },
  {
   "cell_type": "markdown",
   "metadata": {},
   "source": [
    "Характеристики товара &mdash; это признак, который отдается под заполние продавцу, поэтому признаков разное количество, а также разная полнота заполнения полей признаков.\n",
    " \n",
    "Т.к., видимо, решается задача предсказания следующих просмотренных платьев, то можно углубиться в данную категорию товаров и выбрать общие признаки характеризующие данный тип изделий."
   ]
  },
  {
   "cell_type": "markdown",
   "metadata": {},
   "source": [
    "Попробуем взять условные 100 товаров и посмотреть какие признаки для них общие"
   ]
  },
  {
   "cell_type": "code",
   "execution_count": null,
   "metadata": {},
   "outputs": [],
   "source": [
    "item_chars = {str.lower(i[\"charcName\"]) for i in df_text_pd.iloc[0][\"characteristics\"]}\n",
    "\n",
    "# Используем логику пересечения множеств\n",
    "for i in range(1, 100):\n",
    "    item_chars = item_chars & {\n",
    "        str.lower(i[\"charcName\"]) for i in df_text_pd.iloc[i][\"characteristics\"]\n",
    "    }\n",
    "\n",
    "item_chars"
   ]
  },
  {
   "cell_type": "markdown",
   "metadata": {},
   "source": [
    "Видимо присутствуют товары, для которых поля с признаками не заполнены. \n",
    "\n",
    "Тогда попробуем определим признаки чуть-чуть подругому. Посмотрим пересечения множества признаков для 5 платьев, и отберем, как кажется, максимально логичные и понятные признаки для изделия"
   ]
  },
  {
   "cell_type": "code",
   "execution_count": null,
   "metadata": {},
   "outputs": [],
   "source": [
    "item_chars = {str.lower(i[\"charcName\"]) for i in df_text_pd.iloc[0][\"characteristics\"]}\n",
    "\n",
    "for i in range(1, 5):\n",
    "    item_chars = item_chars & {\n",
    "        str.lower(i[\"charcName\"]) for i in df_text_pd.iloc[i][\"characteristics\"]\n",
    "    }\n",
    "\n",
    "item_chars"
   ]
  },
  {
   "cell_type": "markdown",
   "metadata": {},
   "source": [
    "В принципе следующего набора признаков должно быть достаточно, чтобы дать удовлетворительное описание товара\n",
    "\n",
    "```python\n",
    "{\n",
    "    'длина юбки/платья',\n",
    "    'модель платья',\n",
    "    'назначение',\n",
    "    'особенности модели',\n",
    "    'покрой',\n",
    "    'пол',\n",
    "    'рисунок',\n",
    "    'тип карманов',\n",
    "    'тип ростовки',\n",
    "    'тип рукава',\n",
    "    'вид застежки',\n",
    "    'вырез горловины',\n",
    "    'страна производства',\n",
    "}\n",
    "```\n",
    "\n",
    "если посмотреть, что предлагает каталог сайта WB, то там будут следующие характеристики товара (фильтры для категории `юбки\\сарафаны`):\n",
    "\n",
    "```python\n",
    "{\n",
    "    'Бренд',\n",
    "    'С рейтингом от 4.5',\n",
    "    'Рубли за отзыв',\n",
    "    'Оригинальный товар',\n",
    "    'Продавец',\n",
    "    'Премиум-продавец',\n",
    "    'Цвет',\n",
    "    'Размер',\n",
    "    'Состав',\n",
    "    'Назначение',\n",
    "    'Длина юбки/платья',\n",
    "    'Покрой',\n",
    "    'Страна производства',\n",
    "    'Скидка',\n",
    "}\n",
    "```\n",
    "\n",
    "Для выдачи более персонализированной рекомендации/подборки товаров нужно выбрать более полный список признаков.\n",
    "Основываясь на приведенных данных, оставим следующие характреристики изделия, с которыми будем считаться\n",
    "\n",
    "\n",
    "```python\n",
    "{\n",
    "    'длина юбки/платья',\n",
    "    'модель платья',\n",
    "    'назначение',\n",
    "    'покрой',\n",
    "    'рисунок',\n",
    "    'тип карманов',\n",
    "    'тип ростовки',\n",
    "    'тип рукава',\n",
    "    'вид застежки',\n",
    "    'вырез горловины',\n",
    "    'страна производства',\n",
    "}\n",
    "```\n",
    "\n"
   ]
  },
  {
   "cell_type": "markdown",
   "metadata": {},
   "source": [
    "Для того, чтобы составить матрицы для обучения моделей необходимо знать какие данные имеются, что можно закодировать, и на какие категории можно подразделить товары. \n",
    "Из фильтров каталога WB можно вытащить основые значения для признаков: \n",
    "\n",
    "```python\n",
    "{\n",
    "    'Состав',\n",
    "    'Назначение',\n",
    "    'Длина юбки/платья',\n",
    "    'Назначение',\n",
    "    'Покрой',\n",
    "    'Страна производства',\n",
    "    'Цвет',\n",
    "}\n",
    "```\n",
    "(Поместил таблицы со значениями для приведенных признаков в директории data/dress_chars/)\n",
    "\n",
    "Остальные необходимо вытаскивать в ручную, итерируясь батчами по таблице.\n",
    "> ### Вопрос\n",
    "> Сколько нужно ОЗУ для хранения такой таблицы не в формате parquet? "
   ]
  },
  {
   "cell_type": "markdown",
   "metadata": {},
   "source": [
    "### Вывод по таблице text_data\n",
    "\n",
    "Данная таблица дает признаки товаров, что хорошо для составления рекомендаций, а \n",
    "объединяя данную таблицу с топом популярных товаров можно извлечь:\n",
    "\n",
    "- топ популярных брендов\n",
    "- топ популярных покроев\n",
    "- топ популярных длин\n",
    "\n",
    "и т.п.\n",
    "\n",
    "> ### Замечание \n",
    "> В топе популярных товаров отсутствуют некоторые позиции представленные в таблице text_data, для таких товаров можно будет поставить минимальный возмнжный рейтинг или вообще выбрать отрицательное значение\n",
    "\n",
    "Резюмируя, можно сказать, что данные из этой таблицы пригодны для решения задачи (дополняют таблицу взаимодействий). "
   ]
  },
  {
   "cell_type": "markdown",
   "metadata": {},
   "source": [
    "## Images"
   ]
  },
  {
   "cell_type": "markdown",
   "metadata": {},
   "source": [
    "В архиве images.zip хранятся изображения товаров.\n",
    "- Название файла изображения соотносится с  `nm_id` товара.\n",
    "- изображения размера 328x518 px\n",
    "\n",
    "### Вывод по Images\n",
    "Изображения пригодны для построения рекомендательной системы: \n",
    "можно представить в виде векторов в некотором пространстве и, рассчитывая их близость, выдавать кандидатов для ответа."
   ]
  },
  {
   "cell_type": "markdown",
   "metadata": {},
   "source": []
  }
 ],
 "metadata": {
  "kernelspec": {
   "display_name": "3.11.9",
   "language": "python",
   "name": "python3"
  },
  "language_info": {
   "codemirror_mode": {
    "name": "ipython",
    "version": 3
   },
   "file_extension": ".py",
   "mimetype": "text/x-python",
   "name": "python",
   "nbconvert_exporter": "python",
   "pygments_lexer": "ipython3",
   "version": "3.11.9"
  }
 },
 "nbformat": 4,
 "nbformat_minor": 2
}
