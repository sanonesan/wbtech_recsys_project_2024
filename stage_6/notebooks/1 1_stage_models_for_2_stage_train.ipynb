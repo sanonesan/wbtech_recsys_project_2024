{
 "cells": [
  {
   "cell_type": "markdown",
   "metadata": {},
   "source": [
    "# Stage 5 (1 1_stage_models_for_2_stage_train)"
   ]
  },
  {
   "cell_type": "markdown",
   "metadata": {},
   "source": [
    "# Импортируем библиотеки"
   ]
  },
  {
   "cell_type": "code",
   "execution_count": 1,
   "metadata": {},
   "outputs": [],
   "source": [
    "from typing import Dict, Any\n",
    "import warnings\n",
    "\n",
    "\n",
    "# ----------------\n",
    "# Data processing\n",
    "# ----------------\n",
    "import dill\n",
    "\n",
    "import numpy as np\n",
    "import pandas as pd\n",
    "import polars as pl\n",
    "\n",
    "from tqdm.auto import tqdm\n",
    "\n",
    "# ---------------------\n",
    "# RecSys models imports\n",
    "# ---------------------\n",
    "from lightfm import LightFM\n",
    "\n",
    "from rectools import Columns\n",
    "from rectools.dataset import Dataset as RTDataset\n",
    "from rectools.models import (\n",
    "    PopularModel,\n",
    "    LightFMWrapperModel,\n",
    "    implicit_knn,\n",
    ")\n",
    "from implicit import nearest_neighbours\n",
    "from mab2rec import BanditRecommender, LearningPolicy\n",
    "\n",
    "\n",
    "# -------------------\n",
    "# Metrics Evaluation\n",
    "# -------------------\n",
    "from metrics import RecommenderMetrics\n",
    "\n",
    "\n",
    "warnings.filterwarnings(\"ignore\")\n",
    "\n",
    "RANDOM_STATE = 42"
   ]
  },
  {
   "cell_type": "markdown",
   "metadata": {},
   "source": [
    "# Load Data"
   ]
  },
  {
   "cell_type": "code",
   "execution_count": 2,
   "metadata": {},
   "outputs": [],
   "source": [
    "data_path = \"../data/closed/\""
   ]
  },
  {
   "cell_type": "code",
   "execution_count": 3,
   "metadata": {},
   "outputs": [
    {
     "data": {
      "text/plain": [
       "(Schema([('user_id', Int64),\n",
       "         ('item_id', Int64),\n",
       "         ('dt', Datetime(time_unit='ns', time_zone=None)),\n",
       "         ('ui_inter', UInt32),\n",
       "         ('u_total_inter', UInt32),\n",
       "         ('weight', Float64),\n",
       "         ('ui_entry', Int64),\n",
       "         ('cum_weight', Float64)]),\n",
       " Schema([('user_id', Int64),\n",
       "         ('item_id', Int64),\n",
       "         ('dt', Datetime(time_unit='ns', time_zone=None)),\n",
       "         ('ui_inter', UInt32),\n",
       "         ('u_total_inter', UInt32),\n",
       "         ('weight', Float64),\n",
       "         ('ui_entry', Int64),\n",
       "         ('cum_weight', Float64)]),\n",
       " Schema([('user_id', Int64), ('item_id', List(Int64))]))"
      ]
     },
     "execution_count": 3,
     "metadata": {},
     "output_type": "execute_result"
    }
   ],
   "source": [
    "base_models_data = pl.scan_parquet(data_path + \"base_models_data.parquet\")\n",
    "ranker_data = pl.scan_parquet(data_path + \"ranker_data.parquet\")\n",
    "test_df = pl.scan_parquet(data_path + \"test_df.parquet\")\n",
    "\n",
    "base_models_data.schema, ranker_data.schema, test_df.schema"
   ]
  },
  {
   "cell_type": "markdown",
   "metadata": {},
   "source": [
    "# Обучение моделей первого уровня для обучения ранкера"
   ]
  },
  {
   "cell_type": "code",
   "execution_count": 4,
   "metadata": {},
   "outputs": [],
   "source": [
    "models_path = \"../data/models/\""
   ]
  },
  {
   "cell_type": "markdown",
   "metadata": {},
   "source": [
    "Модели максимально простые, основанные на взаимодействиях пользователей и айтемов.\n",
    "\n",
    "Фитчи айтемов оставим для переранжирования."
   ]
  },
  {
   "cell_type": "markdown",
   "metadata": {},
   "source": [
    "## Rectools Dataset"
   ]
  },
  {
   "cell_type": "code",
   "execution_count": 5,
   "metadata": {},
   "outputs": [
    {
     "data": {
      "text/plain": [
       "Schema([('user_id', Int64),\n",
       "        ('item_id', Int64),\n",
       "        ('dt', Datetime(time_unit='ns', time_zone=None)),\n",
       "        ('ui_inter', UInt32),\n",
       "        ('u_total_inter', UInt32),\n",
       "        ('weight', Float64),\n",
       "        ('ui_entry', Int64),\n",
       "        ('cum_weight', Float64)])"
      ]
     },
     "execution_count": 5,
     "metadata": {},
     "output_type": "execute_result"
    }
   ],
   "source": [
    "base_models_data.schema"
   ]
  },
  {
   "cell_type": "code",
   "execution_count": 6,
   "metadata": {},
   "outputs": [],
   "source": [
    "# Создадим датасет взаимодействий\n",
    "current_dataset = RTDataset.construct(\n",
    "    # Изменим датасет `base_models_data` под стандарт `rectools`\n",
    "    # Оставим только нужные колонки и переименуем \n",
    "    interactions_df=base_models_data.select(\n",
    "        [\n",
    "            \"user_id\",\n",
    "            \"item_id\",\n",
    "            \"dt\",\n",
    "            \"cum_weight\",\n",
    "        ]\n",
    "    )\n",
    "    .rename(\n",
    "        {\n",
    "            \"user_id\": Columns.User,\n",
    "            \"item_id\": Columns.Item,\n",
    "            \"dt\": Columns.Datetime,\n",
    "            \"cum_weight\": Columns.Weight,\n",
    "        }\n",
    "    )\n",
    "    .collect()\n",
    "    # преобразуем в формат pandas\n",
    "    .to_pandas(),\n",
    ")"
   ]
  },
  {
   "cell_type": "markdown",
   "metadata": {},
   "source": [
    "## Качество работы моделей будем оценивать следующим образом"
   ]
  },
  {
   "cell_type": "code",
   "execution_count": 11,
   "metadata": {},
   "outputs": [
    {
     "data": {
      "text/plain": [
       "(array([4194304, 2097153, 3145730, ..., 3145696, 3145702, 2097143]), (444430,))"
      ]
     },
     "execution_count": 11,
     "metadata": {},
     "output_type": "execute_result"
    }
   ],
   "source": [
    "# Проверим качество на тестовой выборке\n",
    "# Берем только пользователей, которые присутствуют\n",
    "# в base и test выборках\n",
    "with open(data_path + \"b2t_users.dill\", \"rb\") as f:\n",
    "    b2t_users = dill.load(f)\n",
    "b2t_users, b2t_users.shape"
   ]
  },
  {
   "cell_type": "code",
   "execution_count": 12,
   "metadata": {},
   "outputs": [
    {
     "data": {
      "text/plain": [
       "(array([2431814, 4021511,  803540, ..., 1319516, 3885228, 4238440]), (100000,))"
      ]
     },
     "execution_count": 12,
     "metadata": {},
     "output_type": "execute_result"
    }
   ],
   "source": [
    "# Пользователей много, так что выберем\n",
    "# 100 тысяч пользователей, на которых расчитаем метрики\n",
    "b2t_users = np.random.choice(\n",
    "    b2t_users,\n",
    "    size=10**5,\n",
    "    replace=False,\n",
    ")\n",
    "b2t_users, b2t_users.shape"
   ]
  },
  {
   "cell_type": "markdown",
   "metadata": {},
   "source": [
    "Выделим часть таблицы, на которой будем сверяться"
   ]
  },
  {
   "cell_type": "code",
   "execution_count": 13,
   "metadata": {},
   "outputs": [],
   "source": [
    "metrics_df_tmp = test_df.filter(pl.col(\"user_id\").is_in(b2t_users)).collect()"
   ]
  },
  {
   "cell_type": "markdown",
   "metadata": {},
   "source": [
    "## Rectools PopularModel"
   ]
  },
  {
   "cell_type": "code",
   "execution_count": 10,
   "metadata": {},
   "outputs": [],
   "source": [
    "popular_model = PopularModel()"
   ]
  },
  {
   "cell_type": "code",
   "execution_count": 11,
   "metadata": {},
   "outputs": [
    {
     "name": "stdout",
     "output_type": "stream",
     "text": [
      "\u001b[H\u001b[2J"
     ]
    }
   ],
   "source": [
    "popular_model.fit(current_dataset)\n",
    "\n",
    "%clear"
   ]
  },
  {
   "cell_type": "code",
   "execution_count": 12,
   "metadata": {},
   "outputs": [],
   "source": [
    "# Save model\n",
    "with open(models_path + \"popular_model.dill\", \"wb\") as f:\n",
    "    dill.dump(popular_model, f)"
   ]
  },
  {
   "cell_type": "code",
   "execution_count": 13,
   "metadata": {},
   "outputs": [],
   "source": [
    "# Load model\n",
    "with open(models_path + \"popular_model.dill\", \"rb\") as f:\n",
    "    popular_model = dill.load(f)"
   ]
  },
  {
   "cell_type": "markdown",
   "metadata": {},
   "source": [
    "## Rectools Implicit\n"
   ]
  },
  {
   "cell_type": "code",
   "execution_count": 7,
   "metadata": {},
   "outputs": [],
   "source": [
    "knn_impl_cos_k50 = implicit_knn.ImplicitItemKNNWrapperModel(\n",
    "    model=nearest_neighbours.CosineRecommender(K=50)\n",
    ")\n",
    "\n",
    "knn_impl_bm25_k50 = implicit_knn.ImplicitItemKNNWrapperModel(\n",
    "    model=nearest_neighbours.BM25Recommender(K=50)\n",
    ")\n",
    "\n",
    "knn_impl_tfidf_k50 = implicit_knn.ImplicitItemKNNWrapperModel(\n",
    "    model=nearest_neighbours.TFIDFRecommender(K=50)\n",
    ")"
   ]
  },
  {
   "cell_type": "code",
   "execution_count": 8,
   "metadata": {},
   "outputs": [
    {
     "name": "stdout",
     "output_type": "stream",
     "text": [
      "\u001b[H\u001b[2J"
     ]
    }
   ],
   "source": [
    "# Fit models\n",
    "knn_impl_cos_k50.fit(current_dataset)\n",
    "knn_impl_bm25_k50.fit(current_dataset)\n",
    "knn_impl_tfidf_k50.fit(current_dataset)\n",
    "\n",
    "%clear"
   ]
  },
  {
   "cell_type": "markdown",
   "metadata": {},
   "source": [
    "39 s for 3 models for train\n",
    "\n",
    "~ 13 s for 1 model"
   ]
  },
  {
   "cell_type": "code",
   "execution_count": 9,
   "metadata": {},
   "outputs": [],
   "source": [
    "# Save models\n",
    "\n",
    "with open(models_path + \"knn_impl_cos_k50.dill\", \"wb\") as f:\n",
    "    dill.dump(knn_impl_cos_k50, f)\n",
    "\n",
    "with open(models_path + \"knn_impl_bm25_k50.dill\", \"wb\") as f:\n",
    "    dill.dump(knn_impl_bm25_k50, f)\n",
    "\n",
    "with open(models_path + \"knn_impl_tfidf_k50.dill\", \"wb\") as f:\n",
    "    dill.dump(knn_impl_tfidf_k50, f)"
   ]
  },
  {
   "cell_type": "code",
   "execution_count": 10,
   "metadata": {},
   "outputs": [],
   "source": [
    "# Load models\n",
    "\n",
    "with open(models_path + \"knn_impl_cos_k50.dill\", \"rb\") as f:\n",
    "    knn_impl_cos_k50 = dill.load(f)\n",
    "\n",
    "with open(models_path + \"knn_impl_bm25_k50.dill\", \"rb\") as f:\n",
    "    knn_impl_bm25_k50 = dill.load(f)\n",
    "\n",
    "with open(models_path + \"knn_impl_tfidf_k50.dill\", \"rb\") as f:\n",
    "    knn_impl_tfidf_k50 = dill.load(f)"
   ]
  },
  {
   "cell_type": "markdown",
   "metadata": {},
   "source": [
    "### Test Cosine"
   ]
  },
  {
   "cell_type": "code",
   "execution_count": null,
   "metadata": {},
   "outputs": [],
   "source": [
    "candidates_cos: pl.DataFrame = pl.from_pandas(\n",
    "    knn_impl_cos_k50.recommend(\n",
    "        b2t_users,\n",
    "        current_dataset,\n",
    "        # выдаем 10 кандидатов\n",
    "        k=10,\n",
    "        # рекомендуем уже просмотренные товары\n",
    "        filter_viewed=False,\n",
    "    )\n",
    ").rename(\n",
    "    {\n",
    "        \"score\": \"cos_score\",\n",
    "        \"rank\": \"cos_rank\",\n",
    "    }\n",
    ")"
   ]
  },
  {
   "cell_type": "markdown",
   "metadata": {},
   "source": [
    "11 s for 100K users"
   ]
  },
  {
   "cell_type": "code",
   "execution_count": null,
   "metadata": {},
   "outputs": [],
   "source": [
    "predictions = (\n",
    "    candidates_cos.filter(pl.col(\"cos_rank\") <= 10)\n",
    "    .select([\"user_id\", \"item_id\"])\n",
    "    .group_by(\"user_id\")\n",
    "    .agg(pl.col(\"item_id\").alias(\"cos_recs\"))\n",
    ")"
   ]
  },
  {
   "cell_type": "markdown",
   "metadata": {},
   "source": [
    "#### Calculate metrics"
   ]
  },
  {
   "cell_type": "code",
   "execution_count": 13,
   "metadata": {},
   "outputs": [
    {
     "data": {
      "text/plain": [
       "{'ndcg@k': 0.29378310897228904,\n",
       " 'recall@k': 0.19345844811084217,\n",
       " 'map@k': 0.14826857938055873}"
      ]
     },
     "execution_count": 13,
     "metadata": {},
     "output_type": "execute_result"
    }
   ],
   "source": [
    "RecommenderMetrics.evaluate_recommender(\n",
    "    metrics_df_tmp.join(\n",
    "        other=predictions,\n",
    "        how=\"left\",\n",
    "        on=\"user_id\",\n",
    "    ),\n",
    "    model_preds_col=\"cos_recs\",\n",
    ")"
   ]
  },
  {
   "cell_type": "markdown",
   "metadata": {},
   "source": [
    "### Test BM25"
   ]
  },
  {
   "cell_type": "code",
   "execution_count": null,
   "metadata": {},
   "outputs": [],
   "source": [
    "candidates_bm25: pl.DataFrame = pl.from_pandas(\n",
    "    knn_impl_bm25_k50.recommend(\n",
    "        b2t_users,\n",
    "        current_dataset,\n",
    "        # выдаем 10 кандидатов\n",
    "        k=10,\n",
    "        # рекомендуем уже просмотренные товары\n",
    "        filter_viewed=False,\n",
    "    )\n",
    ").rename(\n",
    "    {\n",
    "        \"score\": \"bm25_score\",\n",
    "        \"rank\": \"bm25_rank\",\n",
    "    }\n",
    ")"
   ]
  },
  {
   "cell_type": "markdown",
   "metadata": {},
   "source": [
    "11 s for 100K users\n"
   ]
  },
  {
   "cell_type": "code",
   "execution_count": null,
   "metadata": {},
   "outputs": [],
   "source": [
    "predictions = (\n",
    "    candidates_bm25.filter(pl.col(\"bm25_rank\") <= 10)\n",
    "    .select([\"user_id\", \"item_id\"])\n",
    "    .group_by(\"user_id\")\n",
    "    .agg(pl.col(\"item_id\").alias(\"bm25_recs\"))\n",
    ")"
   ]
  },
  {
   "cell_type": "markdown",
   "metadata": {},
   "source": [
    "#### Calculate metrics"
   ]
  },
  {
   "cell_type": "code",
   "execution_count": 17,
   "metadata": {},
   "outputs": [
    {
     "data": {
      "text/plain": [
       "{'ndcg@k': 0.2834074226497831,\n",
       " 'recall@k': 0.18585607211950644,\n",
       " 'map@k': 0.14008425056205992}"
      ]
     },
     "execution_count": 17,
     "metadata": {},
     "output_type": "execute_result"
    }
   ],
   "source": [
    "RecommenderMetrics.evaluate_recommender(\n",
    "    metrics_df_tmp.join(\n",
    "        other=predictions,\n",
    "        how=\"left\",\n",
    "        on=\"user_id\",\n",
    "    ),\n",
    "    model_preds_col=\"bm25_recs\",\n",
    ")"
   ]
  },
  {
   "cell_type": "markdown",
   "metadata": {},
   "source": [
    "### Test TFIDF"
   ]
  },
  {
   "cell_type": "code",
   "execution_count": null,
   "metadata": {},
   "outputs": [],
   "source": [
    "candidates_tfidf: pl.DataFrame = pl.from_pandas(\n",
    "    knn_impl_tfidf_k50.recommend(\n",
    "        b2t_users,\n",
    "        current_dataset,\n",
    "        # выдаем 10 кандидатов\n",
    "        k=10,\n",
    "        # рекомендуем уже просмотренные товары\n",
    "        filter_viewed=False,\n",
    "    )\n",
    ").rename(\n",
    "    {\n",
    "        \"score\": \"tfidf_score\",\n",
    "        \"rank\": \"tfidf_rank\",\n",
    "    }\n",
    ")"
   ]
  },
  {
   "cell_type": "markdown",
   "metadata": {},
   "source": [
    "11 s for 100K users\n"
   ]
  },
  {
   "cell_type": "code",
   "execution_count": null,
   "metadata": {},
   "outputs": [],
   "source": [
    "predictions = (\n",
    "    candidates_tfidf.filter(pl.col(\"tfidf_rank\") <= 10)\n",
    "    .select([\"user_id\", \"item_id\"])\n",
    "    .group_by(\"user_id\")\n",
    "    .agg(pl.col(\"item_id\").alias(\"tfidf_recs\"))\n",
    ")"
   ]
  },
  {
   "cell_type": "markdown",
   "metadata": {},
   "source": [
    "#### Calculate metrics"
   ]
  },
  {
   "cell_type": "code",
   "execution_count": 20,
   "metadata": {},
   "outputs": [
    {
     "data": {
      "text/plain": [
       "{'ndcg@k': 0.28688514807266785,\n",
       " 'recall@k': 0.18978574823916908,\n",
       " 'map@k': 0.1462818330547252}"
      ]
     },
     "execution_count": 20,
     "metadata": {},
     "output_type": "execute_result"
    }
   ],
   "source": [
    "RecommenderMetrics.evaluate_recommender(\n",
    "    metrics_df_tmp.join(\n",
    "        other=predictions,\n",
    "        how=\"left\",\n",
    "        on=\"user_id\",\n",
    "    ),\n",
    "    model_preds_col=\"tfidf_recs\",\n",
    ")"
   ]
  },
  {
   "cell_type": "markdown",
   "metadata": {},
   "source": [
    "## Rectools LightFM"
   ]
  },
  {
   "cell_type": "code",
   "execution_count": 7,
   "metadata": {},
   "outputs": [],
   "source": [
    "# Задаем модель\n",
    "lfm_model = LightFMWrapperModel(\n",
    "    LightFM(\n",
    "        no_components=64,\n",
    "        learning_rate=0.1,\n",
    "        loss=\"warp\",\n",
    "        max_sampled=7,\n",
    "    ),\n",
    "    epochs=20,\n",
    "    num_threads=6,\n",
    "    verbose=1,\n",
    ")"
   ]
  },
  {
   "cell_type": "code",
   "execution_count": 8,
   "metadata": {},
   "outputs": [
    {
     "name": "stderr",
     "output_type": "stream",
     "text": [
      "Epoch: 100%|██████████| 20/20 [06:53<00:00, 20.68s/it]"
     ]
    },
    {
     "name": "stdout",
     "output_type": "stream",
     "text": [
      "\u001b[H\u001b[2J"
     ]
    },
    {
     "name": "stderr",
     "output_type": "stream",
     "text": [
      "\n"
     ]
    }
   ],
   "source": [
    "lfm_model.fit(dataset=current_dataset)\n",
    "%clear"
   ]
  },
  {
   "cell_type": "markdown",
   "metadata": {},
   "source": [
    "7 m"
   ]
  },
  {
   "cell_type": "code",
   "execution_count": 9,
   "metadata": {},
   "outputs": [],
   "source": [
    "# Save model\n",
    "with open(models_path + \"lfm_model.dill\", \"wb\") as f:\n",
    "    dill.dump(lfm_model, f)"
   ]
  },
  {
   "cell_type": "code",
   "execution_count": 10,
   "metadata": {},
   "outputs": [],
   "source": [
    "# Load model\n",
    "with open(models_path + \"lfm_model.dill\", \"rb\") as f:\n",
    "    lfm_model = dill.load(f)"
   ]
  },
  {
   "cell_type": "markdown",
   "metadata": {},
   "source": [
    "### Test LightFM"
   ]
  },
  {
   "cell_type": "code",
   "execution_count": 14,
   "metadata": {},
   "outputs": [],
   "source": [
    "candidates_lfm: pl.DataFrame = pl.from_pandas(\n",
    "    lfm_model.recommend(\n",
    "        b2t_users,\n",
    "        current_dataset,\n",
    "        # выдаем 10 кандидатов\n",
    "        k=10,\n",
    "        # рекомендуем уже просмотренные товары\n",
    "        filter_viewed=False,\n",
    "    )\n",
    ").rename(\n",
    "    {\n",
    "        \"score\": \"lfm_score\",\n",
    "        \"rank\": \"lfm_rank\",\n",
    "    }\n",
    ")"
   ]
  },
  {
   "cell_type": "markdown",
   "metadata": {},
   "source": [
    "1m 10s for 100K users"
   ]
  },
  {
   "cell_type": "code",
   "execution_count": 15,
   "metadata": {},
   "outputs": [],
   "source": [
    "predictions = (\n",
    "    candidates_lfm.filter(pl.col(\"lfm_rank\") <= 10)\n",
    "    .select([\"user_id\", \"item_id\"])\n",
    "    .group_by(\"user_id\")\n",
    "    .agg(pl.col(\"item_id\").alias(\"lfm_recs\"))\n",
    ")"
   ]
  },
  {
   "cell_type": "markdown",
   "metadata": {},
   "source": [
    "#### Calculate metrics"
   ]
  },
  {
   "cell_type": "code",
   "execution_count": 16,
   "metadata": {},
   "outputs": [
    {
     "data": {
      "text/plain": [
       "{'ndcg@k': 0.17871450371352096,\n",
       " 'recall@k': 0.11630885515959145,\n",
       " 'map@k': 0.0781008573648904}"
      ]
     },
     "execution_count": 16,
     "metadata": {},
     "output_type": "execute_result"
    }
   ],
   "source": [
    "RecommenderMetrics.evaluate_recommender(\n",
    "    metrics_df_tmp.join(\n",
    "        other=predictions,\n",
    "        how=\"left\",\n",
    "        on=\"user_id\",\n",
    "    ),\n",
    "    model_preds_col=\"lfm_recs\",\n",
    ")"
   ]
  },
  {
   "cell_type": "markdown",
   "metadata": {},
   "source": [
    "## Получим рекомендации для обучения ранкера"
   ]
  },
  {
   "cell_type": "code",
   "execution_count": 11,
   "metadata": {},
   "outputs": [],
   "source": [
    "candidates_data_path = models_path + \"candidates_data/\""
   ]
  },
  {
   "cell_type": "code",
   "execution_count": 12,
   "metadata": {},
   "outputs": [
    {
     "data": {
      "text/plain": [
       "(array([2097153,       5, 1048582, ..., 3145722, 1048574, 4194303]), (543921,))"
      ]
     },
     "execution_count": 12,
     "metadata": {},
     "output_type": "execute_result"
    }
   ],
   "source": [
    "with open(data_path + \"b2r_users.dill\", \"rb\") as f:\n",
    "    b2r_users = dill.load(f)\n",
    "b2r_users, b2r_users.shape"
   ]
  },
  {
   "cell_type": "markdown",
   "metadata": {},
   "source": [
    "### Cosine Recommender"
   ]
  },
  {
   "cell_type": "code",
   "execution_count": 11,
   "metadata": {},
   "outputs": [],
   "source": [
    "# Cosine Recommender\n",
    "with open(models_path + \"knn_impl_cos_k50.dill\", \"rb\") as f:\n",
    "    pl.from_pandas(\n",
    "        dill.load(f).recommend(\n",
    "            b2r_users,\n",
    "            current_dataset,\n",
    "            # выдаем 15 кандидатов\n",
    "            k=15,\n",
    "            # рекомендуем уже просмотренные товары\n",
    "            filter_viewed=False,\n",
    "        )\n",
    "    ).rename(\n",
    "        {\n",
    "            \"score\": \"cos_score\",\n",
    "            \"rank\": \"cos_rank\",\n",
    "        }\n",
    "    ).write_parquet(\n",
    "        candidates_data_path + \"candidates_cos.parquet\"\n",
    "    )"
   ]
  },
  {
   "cell_type": "markdown",
   "metadata": {},
   "source": [
    "58 s for 543K users"
   ]
  },
  {
   "cell_type": "markdown",
   "metadata": {},
   "source": [
    "### BM25 Recommender\n"
   ]
  },
  {
   "cell_type": "code",
   "execution_count": 12,
   "metadata": {},
   "outputs": [],
   "source": [
    "# BM25 Recommender\n",
    "with open(models_path + \"knn_impl_bm25_k50.dill\", \"rb\") as f:\n",
    "    pl.from_pandas(\n",
    "        dill.load(f).recommend(\n",
    "            b2r_users,\n",
    "            current_dataset,\n",
    "            # выдаем 15 кандидатов\n",
    "            k=15,\n",
    "            # рекомендуем уже просмотренные товары\n",
    "            filter_viewed=False,\n",
    "        )\n",
    "    ).rename(\n",
    "        {\n",
    "            \"score\": \"bm25_score\",\n",
    "            \"rank\": \"bm25_rank\",\n",
    "        }\n",
    "    ).write_parquet(\n",
    "        candidates_data_path + \"candidates_bm25.parquet\"\n",
    "    )"
   ]
  },
  {
   "cell_type": "markdown",
   "metadata": {},
   "source": [
    "58 s for 543K users"
   ]
  },
  {
   "cell_type": "markdown",
   "metadata": {},
   "source": [
    "### TFIDF Recommender\n"
   ]
  },
  {
   "cell_type": "code",
   "execution_count": 13,
   "metadata": {},
   "outputs": [],
   "source": [
    "# TFIDF Recommender\n",
    "with open(models_path + \"knn_impl_tfidf_k50.dill\", \"rb\") as f:\n",
    "    pl.from_pandas(\n",
    "        dill.load(f).recommend(\n",
    "            b2r_users,\n",
    "            current_dataset,\n",
    "            # выдаем 15 кандидатов\n",
    "            k=15,\n",
    "            # рекомендуем уже просмотренные товары\n",
    "            filter_viewed=False,\n",
    "        )\n",
    "    ).rename(\n",
    "        {\n",
    "            \"score\": \"tfidf_score\",\n",
    "            \"rank\": \"tfidf_rank\",\n",
    "        }\n",
    "    ).write_parquet(\n",
    "        candidates_data_path + \"candidates_tfidf.parquet\"\n",
    "    )"
   ]
  },
  {
   "cell_type": "markdown",
   "metadata": {},
   "source": [
    "58 s for 543K users"
   ]
  },
  {
   "cell_type": "markdown",
   "metadata": {},
   "source": [
    "### LightFM Recommender\n"
   ]
  },
  {
   "cell_type": "code",
   "execution_count": 13,
   "metadata": {},
   "outputs": [],
   "source": [
    "# LightFM Recommender\n",
    "with open(models_path + \"lfm_model.dill\", \"rb\") as f:\n",
    "    pl.from_pandas(\n",
    "        dill.load(f).recommend(\n",
    "            b2r_users,\n",
    "            current_dataset,\n",
    "            # выдаем 15 кандидатов\n",
    "            k=15,\n",
    "            # рекомендуем уже просмотренные товары\n",
    "            filter_viewed=False,\n",
    "        )\n",
    "    ).rename(\n",
    "        {\n",
    "            \"score\": \"lfm_score\",\n",
    "            \"rank\": \"lfm_rank\",\n",
    "        }\n",
    "    ).write_parquet(\n",
    "        candidates_data_path + \"candidates_lfm.parquet\"\n",
    "    )"
   ]
  },
  {
   "cell_type": "markdown",
   "metadata": {},
   "source": [
    "5 m for 543K users"
   ]
  },
  {
   "cell_type": "markdown",
   "metadata": {},
   "source": [
    "# Сливаем всех кандидатов в одну таблицу"
   ]
  },
  {
   "cell_type": "code",
   "execution_count": 21,
   "metadata": {},
   "outputs": [],
   "source": [
    "models_path = \"../data/models/\""
   ]
  },
  {
   "cell_type": "code",
   "execution_count": 22,
   "metadata": {},
   "outputs": [],
   "source": [
    "candidates_data_path = models_path + \"candidates_data/\""
   ]
  },
  {
   "cell_type": "markdown",
   "metadata": {},
   "source": [
    "Так как LightFM умеет работать с warm и cold пользователями (PopularModel была взята для тех же целей), а PopularModel имеет **плохой score** относительно остальных моделей и **сильно увеличивает размерность** получаемого датасета с кандидатами, то от кандидатов PopularModel решено отказаться"
   ]
  },
  {
   "cell_type": "code",
   "execution_count": 23,
   "metadata": {},
   "outputs": [],
   "source": [
    "default_values_merged = {\n",
    "    \"cos_score\": pl.col(\"cos_score\").min() - 0.01,\n",
    "    \"bm25_score\": pl.col(\"bm25_score\").min() - 0.01,\n",
    "    \"tfidf_score\": pl.col(\"tfidf_score\").min() - 0.01,\n",
    "    \"lfm_score\": pl.col(\"lfm_score\").min() - 0.01,\n",
    "    \"cos_rank\": pl.col(\"cos_rank\").max() + 1,\n",
    "    \"bm25_rank\": pl.col(\"bm25_rank\").max() + 1,\n",
    "    \"tfidf_rank\": pl.col(\"tfidf_rank\").max() + 1,\n",
    "    \"lfm_rank\": pl.col(\"lfm_rank\").max() + 1,\n",
    "}"
   ]
  },
  {
   "cell_type": "code",
   "execution_count": 24,
   "metadata": {},
   "outputs": [],
   "source": [
    "candidates_list = [\"cos\", \"bm25\", \"tfidf\", \"lfm\"]\n",
    "\n",
    "candidates = pl.scan_parquet(\n",
    "    candidates_data_path + f\"candidates_{candidates_list[0]}.parquet\"\n",
    ").filter(pl.col(f\"{candidates_list[0]}_rank\") < 15)\n",
    "\n",
    "for cand in candidates_list[1:]:\n",
    "    candidates = (\n",
    "        candidates.join(\n",
    "            other=pl.scan_parquet(\n",
    "                candidates_data_path + f\"candidates_{cand}.parquet\"\n",
    "            ).filter(pl.col(f\"{cand}_rank\") < 15),\n",
    "            how=\"outer\",\n",
    "            on=[\"user_id\", \"item_id\"],\n",
    "        )\n",
    "        .with_columns(\n",
    "            pl.col(\"user_id\").fill_null(pl.col(\"user_id_right\")),\n",
    "            pl.col(\"item_id\").fill_null(pl.col(\"item_id_right\")),\n",
    "        )\n",
    "        .drop([\"user_id_right\", \"item_id_right\"])\n",
    "    )\n",
    "\n",
    "\n",
    "candidates.collect().with_columns(\n",
    "    (\n",
    "        pl.col(col_name).fill_null(default_values_merged[col_name])\n",
    "        for col_name in default_values_merged.keys()\n",
    "    )\n",
    ").write_parquet(candidates_data_path + \"candidates_full.parquet\")"
   ]
  },
  {
   "cell_type": "markdown",
   "metadata": {},
   "source": [
    "10 s for merge & save"
   ]
  },
  {
   "cell_type": "markdown",
   "metadata": {},
   "source": [
    "\n",
    "|Stage|Description|Time (s)|Time (m)|\n",
    "|---|---|---|---|\n",
    "|**Data Prep & Training**||||\n",
    "|Dataset Creation|Creation of dataset for level 1 models|4.2|0.07|\n",
    "|KNN Training|Training 3 KNN models|40|0.67|\n",
    "|LFM Training|Training LFM Model|420|7|\n",
    "|Model Dumping|Saving trained models|3.5|0.06|\n",
    "|**Inference**||||\n",
    "|KNN Inference|3 KNN models (total) (543K records, 9.5k user/s per model)|174|2.9|\n",
    "|LFM Inference|LFM Model (543K records, 2k user/s)|300|5|\n",
    "|**Post Processing**||||\n",
    "|Candidate Table Merge|Merging candidates into a single table|10|0.17|\n",
    "|**Total Time**|**All Processes**|**951.7**|**15.85**|\n"
   ]
  },
  {
   "cell_type": "code",
   "execution_count": null,
   "metadata": {},
   "outputs": [],
   "source": []
  }
 ],
 "metadata": {
  "kernelspec": {
   "display_name": "recsys3.11",
   "language": "python",
   "name": "python3"
  },
  "language_info": {
   "codemirror_mode": {
    "name": "ipython",
    "version": 3
   },
   "file_extension": ".py",
   "mimetype": "text/x-python",
   "name": "python",
   "nbconvert_exporter": "python",
   "pygments_lexer": "ipython3",
   "version": "3.11.9"
  }
 },
 "nbformat": 4,
 "nbformat_minor": 2
}
