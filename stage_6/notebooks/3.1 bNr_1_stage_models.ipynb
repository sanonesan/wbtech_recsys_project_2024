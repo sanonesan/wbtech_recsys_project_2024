{
 "cells": [
  {
   "cell_type": "markdown",
   "metadata": {},
   "source": [
    "# Stage 5 (3.1 bNr_1_stage_models)"
   ]
  },
  {
   "cell_type": "code",
   "execution_count": 1,
   "metadata": {},
   "outputs": [],
   "source": [
    "import warnings\n",
    "\n",
    "\n",
    "# ----------------\n",
    "# Data processing\n",
    "# ----------------\n",
    "import dill\n",
    "\n",
    "import polars as pl\n",
    "\n",
    "# ---------------------\n",
    "# RecSys models imports\n",
    "# ---------------------\n",
    "from lightfm import LightFM\n",
    "\n",
    "from rectools import Columns\n",
    "from rectools.dataset import Dataset as RTDataset\n",
    "from rectools.models import (\n",
    "    LightFMWrapperModel,\n",
    "    implicit_knn,\n",
    ")\n",
    "from implicit import nearest_neighbours\n",
    "\n",
    "\n",
    "warnings.filterwarnings(\"ignore\")\n",
    "\n",
    "RANDOM_STATE = 42"
   ]
  },
  {
   "cell_type": "markdown",
   "metadata": {},
   "source": [
    "## Data paths"
   ]
  },
  {
   "cell_type": "code",
   "execution_count": 2,
   "metadata": {},
   "outputs": [],
   "source": [
    "data_path = \"../data/closed/\"\n",
    "models_path = \"../data/models/\"\n",
    "candidates_data_path = models_path + \"candidates_data/\"\n"
   ]
  },
  {
   "cell_type": "markdown",
   "metadata": {},
   "source": [
    "# Load Data & create Rectools Dataset"
   ]
  },
  {
   "cell_type": "markdown",
   "metadata": {},
   "source": [
    "Выборки по пользователям (USER_ID), участвующим в этапе обучения моделей первого уровня"
   ]
  },
  {
   "cell_type": "code",
   "execution_count": 3,
   "metadata": {},
   "outputs": [
    {
     "data": {
      "text/plain": [
       "(array([4194304, 2097153, 3145730, ..., 3145714, 3145717, 2097143]), (540967,))"
      ]
     },
     "execution_count": 3,
     "metadata": {},
     "output_type": "execute_result"
    }
   ],
   "source": [
    "# Пользователи из test_df, которым будут выданы\n",
    "# таргетирвонные рекомондации\n",
    "with open(data_path + \"bNr2t_users.dill\", \"rb\") as f:\n",
    "    bNr2t_users = dill.load(f)\n",
    "\n",
    "bNr2t_users, bNr2t_users.shape"
   ]
  },
  {
   "cell_type": "code",
   "execution_count": 4,
   "metadata": {},
   "outputs": [],
   "source": [
    "base_models_data = pl.scan_parquet(data_path + \"base_models_data.parquet\")\n",
    "ranker_data = pl.scan_parquet(data_path + \"ranker_data.parquet\")"
   ]
  },
  {
   "cell_type": "code",
   "execution_count": 5,
   "metadata": {},
   "outputs": [],
   "source": [
    "# Создадим датасет взаимодействий\n",
    "current_dataset = RTDataset.construct(\n",
    "    # Изменим датасет `base_models_data` под стандарт `rectools`\n",
    "    # Оставим только нужные колонки и переименуем\n",
    "    interactions_df=(\n",
    "        pl.concat(\n",
    "            [\n",
    "                base_models_data.select(\n",
    "                    [\n",
    "                        \"user_id\",\n",
    "                        \"item_id\",\n",
    "                        \"dt\",\n",
    "                        \"cum_weight\",\n",
    "                    ]\n",
    "                ),\n",
    "                ranker_data.select(\n",
    "                    [\n",
    "                        \"user_id\",\n",
    "                        \"item_id\",\n",
    "                        \"dt\",\n",
    "                        \"cum_weight\",\n",
    "                    ]\n",
    "                ),\n",
    "            ],\n",
    "            how=\"vertical\",\n",
    "        )\n",
    "        .rename(\n",
    "            {\n",
    "                \"user_id\": Columns.User,\n",
    "                \"item_id\": Columns.Item,\n",
    "                \"dt\": Columns.Datetime,\n",
    "                \"cum_weight\": Columns.Weight,\n",
    "            }\n",
    "        )\n",
    "        .collect()\n",
    "        # преобразуем в формат pandas\n",
    "        .to_pandas()\n",
    "    )\n",
    ")"
   ]
  },
  {
   "cell_type": "markdown",
   "metadata": {},
   "source": [
    "8 s"
   ]
  },
  {
   "cell_type": "markdown",
   "metadata": {},
   "source": [
    "# Обучение моделей первого уровня для обучения ранкера"
   ]
  },
  {
   "cell_type": "markdown",
   "metadata": {},
   "source": [
    "## Rectools Implicit\n"
   ]
  },
  {
   "cell_type": "code",
   "execution_count": 6,
   "metadata": {},
   "outputs": [],
   "source": [
    "knn_impl_cos_k50 = implicit_knn.ImplicitItemKNNWrapperModel(\n",
    "    model=nearest_neighbours.CosineRecommender(K=50)\n",
    ")\n",
    "\n",
    "knn_impl_bm25_k50 = implicit_knn.ImplicitItemKNNWrapperModel(\n",
    "    model=nearest_neighbours.BM25Recommender(K=50)\n",
    ")\n",
    "\n",
    "knn_impl_tfidf_k50 = implicit_knn.ImplicitItemKNNWrapperModel(\n",
    "    model=nearest_neighbours.TFIDFRecommender(K=50)\n",
    ")"
   ]
  },
  {
   "cell_type": "code",
   "execution_count": 7,
   "metadata": {},
   "outputs": [
    {
     "name": "stdout",
     "output_type": "stream",
     "text": [
      "\u001b[H\u001b[2J"
     ]
    }
   ],
   "source": [
    "# Fit models\n",
    "knn_impl_cos_k50.fit(current_dataset)\n",
    "knn_impl_bm25_k50.fit(current_dataset)\n",
    "knn_impl_tfidf_k50.fit(current_dataset)\n",
    "\n",
    "%clear"
   ]
  },
  {
   "cell_type": "markdown",
   "metadata": {},
   "source": [
    "1 m 4 s for 3 models\n",
    "\n",
    "~21 s for 1 model"
   ]
  },
  {
   "cell_type": "code",
   "execution_count": 8,
   "metadata": {},
   "outputs": [],
   "source": [
    "# Save models\n",
    "\n",
    "with open(models_path + \"knn_impl_cos_k50.dill\", \"wb\") as f:\n",
    "    dill.dump(knn_impl_cos_k50, f)\n",
    "    del knn_impl_cos_k50\n",
    "\n",
    "with open(models_path + \"knn_impl_bm25_k50.dill\", \"wb\") as f:\n",
    "    dill.dump(knn_impl_bm25_k50, f)\n",
    "    del knn_impl_bm25_k50\n",
    "\n",
    "\n",
    "with open(models_path + \"knn_impl_tfidf_k50.dill\", \"wb\") as f:\n",
    "    dill.dump(knn_impl_tfidf_k50, f)\n",
    "    del knn_impl_tfidf_k50\n"
   ]
  },
  {
   "cell_type": "markdown",
   "metadata": {},
   "source": [
    "3 s"
   ]
  },
  {
   "cell_type": "markdown",
   "metadata": {},
   "source": [
    "## Rectools LightFM"
   ]
  },
  {
   "cell_type": "code",
   "execution_count": 9,
   "metadata": {},
   "outputs": [],
   "source": [
    "# Задаем модель\n",
    "lfm_model = LightFMWrapperModel(\n",
    "    LightFM(\n",
    "        no_components=64,\n",
    "        learning_rate=0.1,\n",
    "        loss=\"warp\",\n",
    "        max_sampled=7,\n",
    "    ),\n",
    "    epochs=20,\n",
    "    num_threads=6,\n",
    "    verbose=1,\n",
    ")"
   ]
  },
  {
   "cell_type": "code",
   "execution_count": 10,
   "metadata": {},
   "outputs": [
    {
     "name": "stderr",
     "output_type": "stream",
     "text": [
      "Epoch: 100%|██████████| 20/20 [10:59<00:00, 32.98s/it]"
     ]
    },
    {
     "name": "stdout",
     "output_type": "stream",
     "text": [
      "\u001b[H\u001b[2J"
     ]
    },
    {
     "name": "stderr",
     "output_type": "stream",
     "text": [
      "\n"
     ]
    }
   ],
   "source": [
    "lfm_model.fit(dataset=current_dataset)\n",
    "%clear"
   ]
  },
  {
   "cell_type": "markdown",
   "metadata": {},
   "source": [
    "11 m "
   ]
  },
  {
   "cell_type": "code",
   "execution_count": 11,
   "metadata": {},
   "outputs": [],
   "source": [
    "# Save model\n",
    "with open(models_path + \"lfm_model.dill\", \"wb\") as f:\n",
    "    dill.dump(lfm_model, f)\n",
    "    del lfm_model"
   ]
  },
  {
   "cell_type": "markdown",
   "metadata": {},
   "source": [
    "3 s"
   ]
  },
  {
   "cell_type": "markdown",
   "metadata": {},
   "source": [
    "## Получим кандидатов для переранжирования ранкером"
   ]
  },
  {
   "cell_type": "code",
   "execution_count": 12,
   "metadata": {},
   "outputs": [],
   "source": [
    "models_path = \"../data/models/\"\n",
    "candidates_data_path = models_path + \"candidates_data/\"\n"
   ]
  },
  {
   "cell_type": "markdown",
   "metadata": {},
   "source": [
    "### Cosine Recommender"
   ]
  },
  {
   "cell_type": "code",
   "execution_count": 13,
   "metadata": {},
   "outputs": [],
   "source": [
    "# Cosine Recommender\n",
    "with open(models_path + \"knn_impl_cos_k50.dill\", \"rb\") as f:\n",
    "    pl.from_pandas(\n",
    "        dill.load(f).recommend(\n",
    "            bNr2t_users,\n",
    "            current_dataset,\n",
    "            # выдаем 15 кандидатов\n",
    "            k=15,\n",
    "            # рекомендуем уже просмотренные товары\n",
    "            filter_viewed=False,\n",
    "        )\n",
    "    ).rename(\n",
    "        {\n",
    "            \"score\": \"cos_score\",\n",
    "            \"rank\": \"cos_rank\",\n",
    "        }\n",
    "    ).write_parquet(\n",
    "        candidates_data_path + \"candidates_cos.parquet\"\n",
    "    )"
   ]
  },
  {
   "cell_type": "markdown",
   "metadata": {},
   "source": [
    "1 m 5 s"
   ]
  },
  {
   "cell_type": "markdown",
   "metadata": {},
   "source": [
    "### BM25 Recommender\n"
   ]
  },
  {
   "cell_type": "code",
   "execution_count": 14,
   "metadata": {},
   "outputs": [],
   "source": [
    "# BM25 Recommender\n",
    "with open(models_path + \"knn_impl_bm25_k50.dill\", \"rb\") as f:\n",
    "    pl.from_pandas(\n",
    "        dill.load(f).recommend(\n",
    "            bNr2t_users,\n",
    "            current_dataset,\n",
    "            # выдаем 15 кандидатов\n",
    "            k=15,\n",
    "            # рекомендуем уже просмотренные товары\n",
    "            filter_viewed=False,\n",
    "        )\n",
    "    ).rename(\n",
    "        {\n",
    "            \"score\": \"bm25_score\",\n",
    "            \"rank\": \"bm25_rank\",\n",
    "        }\n",
    "    ).write_parquet(\n",
    "        candidates_data_path + \"candidates_bm25.parquet\"\n",
    "    )"
   ]
  },
  {
   "cell_type": "markdown",
   "metadata": {},
   "source": [
    "1 m 4 s"
   ]
  },
  {
   "cell_type": "markdown",
   "metadata": {},
   "source": [
    "### TFIDF Recommender\n"
   ]
  },
  {
   "cell_type": "code",
   "execution_count": 15,
   "metadata": {},
   "outputs": [],
   "source": [
    "# TFIDF Recommender\n",
    "with open(models_path + \"knn_impl_tfidf_k50.dill\", \"rb\") as f:\n",
    "    pl.from_pandas(\n",
    "        dill.load(f).recommend(\n",
    "            bNr2t_users,\n",
    "            current_dataset,\n",
    "            # выдаем 15 кандидатов\n",
    "            k=15,\n",
    "            # рекомендуем уже просмотренные товары\n",
    "            filter_viewed=False,\n",
    "        )\n",
    "    ).rename(\n",
    "        {\n",
    "            \"score\": \"tfidf_score\",\n",
    "            \"rank\": \"tfidf_rank\",\n",
    "        }\n",
    "    ).write_parquet(\n",
    "        candidates_data_path + \"candidates_tfidf.parquet\"\n",
    "    )"
   ]
  },
  {
   "cell_type": "markdown",
   "metadata": {},
   "source": [
    "1 m 3 s"
   ]
  },
  {
   "cell_type": "markdown",
   "metadata": {},
   "source": [
    "### LightFM Recommender\n"
   ]
  },
  {
   "cell_type": "code",
   "execution_count": 6,
   "metadata": {},
   "outputs": [],
   "source": [
    "# LightFM Recommender\n",
    "with open(models_path + \"lfm_model.dill\", \"rb\") as f:\n",
    "    pl.from_pandas(\n",
    "        dill.load(f).recommend(\n",
    "            bNr2t_users,\n",
    "            current_dataset,\n",
    "            # выдаем 15 кандидатов\n",
    "            k=15,\n",
    "            # рекомендуем уже просмотренные товары\n",
    "            filter_viewed=False,\n",
    "        )\n",
    "    ).rename(\n",
    "        {\n",
    "            \"score\": \"lfm_score\",\n",
    "            \"rank\": \"lfm_rank\",\n",
    "        }\n",
    "    ).write_parquet(\n",
    "        candidates_data_path + \"candidates_lfm.parquet\"\n",
    "    )"
   ]
  },
  {
   "cell_type": "markdown",
   "metadata": {},
   "source": [
    "6 m "
   ]
  },
  {
   "cell_type": "markdown",
   "metadata": {},
   "source": [
    "# Сливаем всех кандидатов в одну таблицу"
   ]
  },
  {
   "cell_type": "code",
   "execution_count": 11,
   "metadata": {},
   "outputs": [],
   "source": [
    "models_path = \"../data/models/\""
   ]
  },
  {
   "cell_type": "code",
   "execution_count": 12,
   "metadata": {},
   "outputs": [],
   "source": [
    "candidates_data_path = models_path + \"candidates_data/\""
   ]
  },
  {
   "cell_type": "code",
   "execution_count": 13,
   "metadata": {},
   "outputs": [],
   "source": [
    "default_values_merged = {\n",
    "    \"cos_score\": pl.col(\"cos_score\").min() - 0.01,\n",
    "    \"bm25_score\": pl.col(\"bm25_score\").min() - 0.01,\n",
    "    \"tfidf_score\": pl.col(\"tfidf_score\").min() - 0.01,\n",
    "    \"lfm_score\": pl.col(\"lfm_score\").min() - 0.01,\n",
    "    \"cos_rank\": pl.col(\"cos_rank\").max() + 1,\n",
    "    \"bm25_rank\": pl.col(\"bm25_rank\").max() + 1,\n",
    "    \"tfidf_rank\": pl.col(\"tfidf_rank\").max() + 1,\n",
    "    \"lfm_rank\": pl.col(\"lfm_rank\").max() + 1,\n",
    "}"
   ]
  },
  {
   "cell_type": "code",
   "execution_count": 14,
   "metadata": {},
   "outputs": [],
   "source": [
    "candidates_list = [\"cos\", \"bm25\", \"tfidf\", \"lfm\"]\n",
    "\n",
    "candidates = pl.scan_parquet(\n",
    "    candidates_data_path + f\"candidates_{candidates_list[0]}.parquet\"\n",
    ").filter(pl.col(f\"{candidates_list[0]}_rank\") < 15)\n",
    "\n",
    "for cand in candidates_list[1:]:\n",
    "    candidates = (\n",
    "        candidates.join(\n",
    "            other=pl.scan_parquet(\n",
    "                candidates_data_path + f\"candidates_{cand}.parquet\"\n",
    "            ).filter(pl.col(f\"{cand}_rank\") < 15),\n",
    "            how=\"outer\",\n",
    "            on=[\"user_id\", \"item_id\"],\n",
    "        )\n",
    "        .with_columns(\n",
    "            pl.col(\"user_id\").fill_null(pl.col(\"user_id_right\")),\n",
    "            pl.col(\"item_id\").fill_null(pl.col(\"item_id_right\")),\n",
    "        )\n",
    "        .drop([\"user_id_right\", \"item_id_right\"])\n",
    "    )\n",
    "\n",
    "\n",
    "candidates.collect().with_columns(\n",
    "    (\n",
    "        pl.col(col_name).fill_null(default_values_merged[col_name])\n",
    "        for col_name in default_values_merged.keys()\n",
    "    )\n",
    ").write_parquet(candidates_data_path + \"candidates_full.parquet\")"
   ]
  },
  {
   "cell_type": "markdown",
   "metadata": {},
   "source": [
    "12.5 s"
   ]
  }
 ],
 "metadata": {
  "kernelspec": {
   "display_name": "recsys3.11",
   "language": "python",
   "name": "python3"
  },
  "language_info": {
   "codemirror_mode": {
    "name": "ipython",
    "version": 3
   },
   "file_extension": ".py",
   "mimetype": "text/x-python",
   "name": "python",
   "nbconvert_exporter": "python",
   "pygments_lexer": "ipython3",
   "version": "3.11.9"
  }
 },
 "nbformat": 4,
 "nbformat_minor": 2
}
