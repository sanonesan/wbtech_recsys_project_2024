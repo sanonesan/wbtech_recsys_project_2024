{
 "cells": [
  {
   "cell_type": "markdown",
   "metadata": {},
   "source": [
    "# Stage 5 (3.3 catboost_2_stage_model_recs)"
   ]
  },
  {
   "cell_type": "markdown",
   "metadata": {},
   "source": [
    "# Импортируем библиотеки"
   ]
  },
  {
   "cell_type": "code",
   "execution_count": 1,
   "metadata": {},
   "outputs": [],
   "source": [
    "import warnings\n",
    "\n",
    "\n",
    "# ----------------\n",
    "# Data processing\n",
    "# ----------------\n",
    "\n",
    "import numpy as np\n",
    "import polars as pl\n",
    "\n",
    "from tqdm import tqdm\n",
    "\n",
    "# ---------------------\n",
    "# RecSys models imports\n",
    "# ---------------------\n",
    "\n",
    "from catboost import CatBoostRanker, Pool\n",
    "\n",
    "\n",
    "# -------------------\n",
    "# Utils\n",
    "# -------------------\n",
    "from utils import get_catboost_group_id, add_score_and_rank\n",
    "\n",
    "\n",
    "warnings.filterwarnings(\"ignore\")\n",
    "\n",
    "RANDOM_STATE = 42"
   ]
  },
  {
   "cell_type": "markdown",
   "metadata": {},
   "source": [
    "# Импортируем пути"
   ]
  },
  {
   "cell_type": "code",
   "execution_count": 2,
   "metadata": {},
   "outputs": [],
   "source": [
    "data_path = \"../data/closed/\"\n",
    "models_path = \"../data/models/\"\n",
    "candidates_data_path = models_path + \"candidates_data/\"\n"
   ]
  },
  {
   "cell_type": "markdown",
   "metadata": {},
   "source": [
    "# CatBoost Ranker\n"
   ]
  },
  {
   "cell_type": "code",
   "execution_count": 3,
   "metadata": {},
   "outputs": [],
   "source": [
    "# Убираем таргет, айдишники\n",
    "# и данные, на которых обучались модели первого уровня\n",
    "FEATURES = [\n",
    "    \"cos_score\",\n",
    "    \"cos_rank\",\n",
    "    \"bm25_score\",\n",
    "    \"bm25_rank\",\n",
    "    \"tfidf_score\",\n",
    "    \"tfidf_rank\",\n",
    "    \"lfm_score\",\n",
    "    \"lfm_rank\",\n",
    "    #---------------\n",
    "    \"user_hist\",\n",
    "    \"user_avg_pop\",\n",
    "    \"user_last_pop\",\n",
    "    #---------------\n",
    "    \"item_pop\",\n",
    "    \"item_avg_hist\",\n",
    "    #---------------\n",
    "    \"title_len\",\n",
    "    \"descr_len\",\n",
    "    \"title_word_len\",\n",
    "    \"descr_word_len\",\n",
    "    \"txt_emb_pca_0\",\n",
    "    \"txt_emb_pca_1\",\n",
    "    \"txt_emb_pca_2\",\n",
    "    \"txt_emb_pca_3\",\n",
    "    \"txt_emb_pca_4\",\n",
    "    \"txt_emb_pca_5\",\n",
    "    \"txt_emb_pca_6\",\n",
    "    \"txt_emb_pca_7\",\n",
    "    \"txt_emb_pca_8\",\n",
    "    \"txt_emb_pca_9\",\n",
    "    #---------------\n",
    "    \"img_emb_pca_0\",\n",
    "    \"img_emb_pca_1\",\n",
    "    \"img_emb_pca_2\",\n",
    "    \"img_emb_pca_3\",\n",
    "    \"img_emb_pca_4\",\n",
    "    \"img_emb_pca_5\",\n",
    "    \"img_emb_pca_6\",\n",
    "    \"img_emb_pca_7\",\n",
    "    \"img_emb_pca_8\",\n",
    "    \"img_emb_pca_9\",\n",
    "    #---------------\n",
    "    \"brand\",\n",
    "    \"color\",\n",
    "    \"closure\",\n",
    "    \"country\",\n",
    "    \"cut\",\n",
    "    \"height\",\n",
    "    \"length\",\n",
    "    \"material\",\n",
    "    \"model\",\n",
    "    \"neckline\",\n",
    "    \"pattern\",\n",
    "    \"pocket\",\n",
    "    \"purpose\",\n",
    "    \"sleeve\",\n",
    "]\n",
    "# Из cols следующие фитчи численные\n",
    "NUMERICAL_FEATURES = [\n",
    "    \"cos_score\",\n",
    "    \"cos_rank\",\n",
    "    \"bm25_score\",\n",
    "    \"bm25_rank\",\n",
    "    \"tfidf_score\",\n",
    "    \"tfidf_rank\",\n",
    "    \"lfm_score\",\n",
    "    \"lfm_rank\",\n",
    "    #---------------\n",
    "    \"user_hist\",\n",
    "    \"user_avg_pop\",\n",
    "    \"user_last_pop\",\n",
    "    #---------------\n",
    "    \"item_pop\",\n",
    "    \"item_avg_hist\",\n",
    "    #---------------\n",
    "    \"title_len\",\n",
    "    \"descr_len\",\n",
    "    \"title_word_len\",\n",
    "    \"descr_word_len\",\n",
    "    \"txt_emb_pca_0\",\n",
    "    \"txt_emb_pca_1\",\n",
    "    \"txt_emb_pca_2\",\n",
    "    \"txt_emb_pca_3\",\n",
    "    \"txt_emb_pca_4\",\n",
    "    \"txt_emb_pca_5\",\n",
    "    \"txt_emb_pca_6\",\n",
    "    \"txt_emb_pca_7\",\n",
    "    \"txt_emb_pca_8\",\n",
    "    \"txt_emb_pca_9\",\n",
    "    #---------------\n",
    "    \"img_emb_pca_0\",\n",
    "    \"img_emb_pca_1\",\n",
    "    \"img_emb_pca_2\",\n",
    "    \"img_emb_pca_3\",\n",
    "    \"img_emb_pca_4\",\n",
    "    \"img_emb_pca_5\",\n",
    "    \"img_emb_pca_6\",\n",
    "    \"img_emb_pca_7\",\n",
    "    \"img_emb_pca_8\",\n",
    "    \"img_emb_pca_9\",\n",
    "]\n",
    "# Из cols следующие фитчи категориальные\n",
    "CATEGORIAL_FEATURES = [\n",
    "    \"brand\",\n",
    "    \"color\",\n",
    "    \"closure\",\n",
    "    \"country\",\n",
    "    \"cut\",\n",
    "    \"height\",\n",
    "    \"length\",\n",
    "    \"material\",\n",
    "    \"model\",\n",
    "    \"neckline\",\n",
    "    \"pattern\",\n",
    "    \"pocket\",\n",
    "    \"purpose\",\n",
    "    \"sleeve\",\n",
    "]\n",
    "\n",
    "FEATURES_FOR_ANALYSIS = [\n",
    "    \"user_id\",\n",
    "    \"item_id\",\n",
    "    \"user_hist\",\n",
    "    \"user_avg_pop\",\n",
    "    \"user_last_pop\",\n",
    "    \"title_len\",\n",
    "    \"descr_len\",\n",
    "    \"title_word_len\",\n",
    "    \"descr_word_len\",\n",
    "    \"brand\",\n",
    "    \"color\",\n",
    "    \"closure\",\n",
    "    \"country\",\n",
    "    \"cut\",\n",
    "    \"height\",\n",
    "    \"length\",\n",
    "    \"material\",\n",
    "    \"model\",\n",
    "    \"neckline\",\n",
    "    \"pattern\",\n",
    "    \"pocket\",\n",
    "    \"purpose\",\n",
    "    \"sleeve\",\n",
    "    \"item_pop\",\n",
    "    \"item_avg_hist\",\n",
    "    # Next features will be added\n",
    "    # after prediction and calculation of model's rank and score\n",
    "    \"listwise_hybrid_score\",\n",
    "    \"listwise_hybrid_rank\",\n",
    "]"
   ]
  },
  {
   "cell_type": "markdown",
   "metadata": {},
   "source": [
    "## Load "
   ]
  },
  {
   "cell_type": "code",
   "execution_count": 4,
   "metadata": {},
   "outputs": [],
   "source": [
    "# Загрузим listwise_model\n",
    "ranker_model = CatBoostRanker().load_model(\n",
    "    models_path + \"CB_ranker_model_best_4.cbm\"\n",
    ")"
   ]
  },
  {
   "cell_type": "code",
   "execution_count": 5,
   "metadata": {},
   "outputs": [
    {
     "data": {
      "text/plain": [
       "{'max_leaves': 40,\n",
       " 'bootstrap_type': 'Bernoulli',\n",
       " 'od_wait': 32,\n",
       " 'verbose': 16,\n",
       " 'iterations': 750,\n",
       " 'custom_metric': ['NDCG:top=10', 'NDCG:top=15', 'NDCG:top=5', 'NDCG:top=3'],\n",
       " 'grow_policy': 'Lossguide',\n",
       " 'loss_function': 'YetiRank',\n",
       " 'l2_leaf_reg': 1.5,\n",
       " 'subsample': 0.9,\n",
       " 'task_type': 'GPU',\n",
       " 'depth': 8,\n",
       " 'min_data_in_leaf': 124,\n",
       " 'learning_rate': 0.195,\n",
       " 'random_seed': 42}"
      ]
     },
     "execution_count": 5,
     "metadata": {},
     "output_type": "execute_result"
    }
   ],
   "source": [
    "ranker_model.get_params()"
   ]
  },
  {
   "cell_type": "markdown",
   "metadata": {},
   "source": [
    "## Выдаем рекомендации\n"
   ]
  },
  {
   "cell_type": "code",
   "execution_count": 6,
   "metadata": {},
   "outputs": [],
   "source": [
    "ranker_data_bNr = pl.scan_parquet(data_path + \"ranker_data_bNr.parquet\")\n"
   ]
  },
  {
   "cell_type": "code",
   "execution_count": 7,
   "metadata": {},
   "outputs": [],
   "source": [
    "n_splits = 5\n",
    "batches = np.array_split(ranker_data_bNr.select(\"user_id\").unique().collect().to_numpy().flatten(), n_splits)"
   ]
  },
  {
   "cell_type": "code",
   "execution_count": 8,
   "metadata": {},
   "outputs": [
    {
     "name": "stderr",
     "output_type": "stream",
     "text": [
      "100%|██████████| 5/5 [01:53<00:00, 22.76s/it]\n"
     ]
    }
   ],
   "source": [
    "for i in tqdm(range(n_splits)):\n",
    "\n",
    "    # create test pool\n",
    "    test_pool = Pool(\n",
    "        data=ranker_data_bNr.filter(pl.col(\"user_id\").is_in(batches[i]))\n",
    "        .select(FEATURES)\n",
    "        .collect()\n",
    "        .to_pandas(),\n",
    "        group_id=get_catboost_group_id(\n",
    "            ranker_data_bNr.filter(pl.col(\"user_id\").is_in(batches[i]))\n",
    "        ),\n",
    "        cat_features=CATEGORIAL_FEATURES,\n",
    "    )\n",
    "\n",
    "    # Get predictions\n",
    "    y_pred: np.ndarray = ranker_model.predict(test_pool)\n",
    "\n",
    "    # Add scores and ranks\n",
    "    (\n",
    "        add_score_and_rank(\n",
    "            df=ranker_data_bNr.filter(pl.col(\"user_id\").is_in(batches[i])),\n",
    "            y_pred_scores=y_pred,\n",
    "            name=\"listwise\",\n",
    "        ).select(FEATURES_FOR_ANALYSIS)\n",
    "        # Save\n",
    "        .write_parquet(candidates_data_path + f\"CB_ranker_predictions_bNr_{i}.parquet\")\n",
    "    )"
   ]
  },
  {
   "cell_type": "markdown",
   "metadata": {},
   "source": [
    "2 min 9 s 540K users --- batch = 54K users ~1.5GB RAM\n",
    "\n",
    "1 min 50 s 540K users --- batch = 108K users ~3GB RAM\n"
   ]
  },
  {
   "cell_type": "code",
   "execution_count": null,
   "metadata": {},
   "outputs": [],
   "source": []
  }
 ],
 "metadata": {
  "kernelspec": {
   "display_name": "recsys3.11",
   "language": "python",
   "name": "python3"
  },
  "language_info": {
   "codemirror_mode": {
    "name": "ipython",
    "version": 3
   },
   "file_extension": ".py",
   "mimetype": "text/x-python",
   "name": "python",
   "nbconvert_exporter": "python",
   "pygments_lexer": "ipython3",
   "version": "3.11.9"
  }
 },
 "nbformat": 4,
 "nbformat_minor": 2
}
