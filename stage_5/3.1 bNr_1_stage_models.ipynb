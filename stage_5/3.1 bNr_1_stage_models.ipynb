{
 "cells": [
  {
   "cell_type": "markdown",
   "metadata": {},
   "source": [
    "# Stage 5 (3.1 bNr_1_stage_models)"
   ]
  },
  {
   "cell_type": "code",
   "execution_count": 1,
   "metadata": {},
   "outputs": [],
   "source": [
    "import warnings\n",
    "\n",
    "\n",
    "# ----------------\n",
    "# Data processing\n",
    "# ----------------\n",
    "import dill\n",
    "\n",
    "import numpy as np\n",
    "import pandas as pd\n",
    "\n",
    "\n",
    "from tqdm.auto import tqdm\n",
    "\n",
    "\n",
    "# ---------------------\n",
    "# RecSys models imports\n",
    "# ---------------------\n",
    "from lightfm import LightFM\n",
    "\n",
    "from rectools import Columns\n",
    "from rectools.dataset import Dataset as RTDataset\n",
    "from rectools.models import (\n",
    "    LightFMWrapperModel,\n",
    "    implicit_knn,\n",
    ")\n",
    "from implicit import nearest_neighbours\n",
    "\n",
    "\n",
    "warnings.filterwarnings(\"ignore\")\n",
    "\n",
    "RANDOM_STATE = 42"
   ]
  },
  {
   "cell_type": "markdown",
   "metadata": {},
   "source": [
    "## Data paths"
   ]
  },
  {
   "cell_type": "code",
   "execution_count": 2,
   "metadata": {},
   "outputs": [],
   "source": [
    "data_path = \"../data_closed/\""
   ]
  },
  {
   "cell_type": "code",
   "execution_count": 3,
   "metadata": {},
   "outputs": [],
   "source": [
    "models_path = \"../models/\""
   ]
  },
  {
   "cell_type": "code",
   "execution_count": 4,
   "metadata": {},
   "outputs": [],
   "source": [
    "candidates_data_path = models_path + \"candidates_data/\""
   ]
  },
  {
   "cell_type": "markdown",
   "metadata": {},
   "source": [
    "# Load Data & create Rectools Dataset"
   ]
  },
  {
   "cell_type": "markdown",
   "metadata": {},
   "source": [
    "Выборки по пользователям (USER_ID), участвующим в этапе обучения моделей первого уровня"
   ]
  },
  {
   "cell_type": "code",
   "execution_count": 5,
   "metadata": {},
   "outputs": [
    {
     "data": {
      "text/plain": [
       "(array([4194304, 2097153, 3145730, ..., 3145714, 3145717, 2097143]), (540967,))"
      ]
     },
     "execution_count": 5,
     "metadata": {},
     "output_type": "execute_result"
    }
   ],
   "source": [
    "# Пользователи из test_df, которым будут выданы\n",
    "# таргетирвонные рекомондации\n",
    "with open(data_path + \"bNr2t_users.dill\", \"rb\") as f:\n",
    "    bNr2t_users = dill.load(f)\n",
    "\n",
    "bNr2t_users, bNr2t_users.shape"
   ]
  },
  {
   "cell_type": "code",
   "execution_count": 6,
   "metadata": {},
   "outputs": [],
   "source": [
    "with (\n",
    "    # Загружаем таблицу данных для моделей первого уровня\n",
    "    open(data_path + \"base_models_data.dill\", \"rb\") as base_f,\n",
    "    # Загружаем таблицу данных для ранкера\n",
    "    open(data_path + \"ranker_data.dill\", \"rb\") as ranker_f,\n",
    "):\n",
    "\n",
    "    # Создадим датасет взаимодействий\n",
    "    current_dataset = RTDataset.construct(\n",
    "        interactions_df=pd.concat(\n",
    "            [\n",
    "                dill.load(base_f)[[\"user_id\", \"item_id\", \"dt\", \"cum_weight\"]],\n",
    "                dill.load(ranker_f)[[\"user_id\", \"item_id\", \"dt\", \"cum_weight\"]],\n",
    "            ],\n",
    "            axis=0,\n",
    "        ).rename(\n",
    "            columns={\n",
    "                \"user_id\": Columns.User,\n",
    "                \"item_id\": Columns.Item,\n",
    "                \"dt\": Columns.Datetime,\n",
    "                \"cum_weight\": Columns.Weight,\n",
    "            }\n",
    "        )\n",
    "    )"
   ]
  },
  {
   "cell_type": "markdown",
   "metadata": {},
   "source": [
    "# Обучение моделей первого уровня для обучения ранкера"
   ]
  },
  {
   "cell_type": "markdown",
   "metadata": {},
   "source": [
    "## Rectools Implicit\n"
   ]
  },
  {
   "cell_type": "code",
   "execution_count": 7,
   "metadata": {},
   "outputs": [],
   "source": [
    "knn_impl_cos_k50 = implicit_knn.ImplicitItemKNNWrapperModel(\n",
    "    model=nearest_neighbours.CosineRecommender(K=50)\n",
    ")\n",
    "\n",
    "knn_impl_bm25_k50 = implicit_knn.ImplicitItemKNNWrapperModel(\n",
    "    model=nearest_neighbours.BM25Recommender(K=50)\n",
    ")\n",
    "\n",
    "knn_impl_tfidf_k50 = implicit_knn.ImplicitItemKNNWrapperModel(\n",
    "    model=nearest_neighbours.TFIDFRecommender(K=50)\n",
    ")"
   ]
  },
  {
   "cell_type": "code",
   "execution_count": 8,
   "metadata": {},
   "outputs": [
    {
     "name": "stdout",
     "output_type": "stream",
     "text": [
      "\u001b[H\u001b[2J"
     ]
    }
   ],
   "source": [
    "# Fit models\n",
    "knn_impl_cos_k50.fit(current_dataset)\n",
    "knn_impl_bm25_k50.fit(current_dataset)\n",
    "knn_impl_tfidf_k50.fit(current_dataset)\n",
    "\n",
    "%clear"
   ]
  },
  {
   "cell_type": "code",
   "execution_count": 9,
   "metadata": {},
   "outputs": [],
   "source": [
    "# Save models\n",
    "\n",
    "with open(models_path + \"knn_impl_cos_k50.dill\", \"wb\") as f:\n",
    "    dill.dump(knn_impl_cos_k50, f)\n",
    "\n",
    "with open(models_path + \"knn_impl_bm25_k50.dill\", \"wb\") as f:\n",
    "    dill.dump(knn_impl_bm25_k50, f)\n",
    "\n",
    "with open(models_path + \"knn_impl_tfidf_k50.dill\", \"wb\") as f:\n",
    "    dill.dump(knn_impl_tfidf_k50, f)"
   ]
  },
  {
   "cell_type": "markdown",
   "metadata": {},
   "source": [
    "## Rectools LightFM"
   ]
  },
  {
   "cell_type": "code",
   "execution_count": 10,
   "metadata": {},
   "outputs": [],
   "source": [
    "# Задаем модель\n",
    "lfm_model = LightFMWrapperModel(\n",
    "    LightFM(\n",
    "        no_components=64,\n",
    "        learning_rate=0.1,\n",
    "        loss=\"warp\",\n",
    "        max_sampled=7,\n",
    "    ),\n",
    "    epochs=20,\n",
    "    num_threads=6,\n",
    "    verbose=1,\n",
    ")"
   ]
  },
  {
   "cell_type": "code",
   "execution_count": 11,
   "metadata": {},
   "outputs": [
    {
     "name": "stderr",
     "output_type": "stream",
     "text": [
      "Epoch: 100%|██████████| 20/20 [09:25<00:00, 28.29s/it]"
     ]
    },
    {
     "name": "stdout",
     "output_type": "stream",
     "text": [
      "\u001b[H\u001b[2J"
     ]
    },
    {
     "name": "stderr",
     "output_type": "stream",
     "text": [
      "\n"
     ]
    }
   ],
   "source": [
    "lfm_model.fit(dataset=current_dataset)\n",
    "%clear"
   ]
  },
  {
   "cell_type": "code",
   "execution_count": 12,
   "metadata": {},
   "outputs": [],
   "source": [
    "# Save model\n",
    "with open(models_path + \"lfm_model.dill\", \"wb\") as f:\n",
    "    dill.dump(lfm_model, f)"
   ]
  },
  {
   "cell_type": "markdown",
   "metadata": {},
   "source": [
    "## Получим кандидатов для переранжирования ранкером"
   ]
  },
  {
   "cell_type": "code",
   "execution_count": null,
   "metadata": {},
   "outputs": [],
   "source": [
    "models_path = \"../models/\""
   ]
  },
  {
   "cell_type": "code",
   "execution_count": 11,
   "metadata": {},
   "outputs": [],
   "source": [
    "candidates_data_path = models_path + \"candidates_data/\""
   ]
  },
  {
   "cell_type": "markdown",
   "metadata": {},
   "source": [
    "### Cosine Recommender"
   ]
  },
  {
   "cell_type": "code",
   "execution_count": 12,
   "metadata": {},
   "outputs": [],
   "source": [
    "# Cosine Recommender\n",
    "with open(models_path + \"knn_impl_cos_k50.dill\", \"rb\") as f:\n",
    "    knn_impl_cos_k50 = dill.load(f)"
   ]
  },
  {
   "cell_type": "code",
   "execution_count": null,
   "metadata": {},
   "outputs": [],
   "source": [
    "candidates_cos = knn_impl_cos_k50.recommend(\n",
    "    bNr2t_users,\n",
    "    current_dataset,\n",
    "    # выдаем 20 кандидатов\n",
    "    k=20,\n",
    "    # рекомендуем уже просмотренные товары\n",
    "    filter_viewed=False,\n",
    ")\n",
    "candidates_cos = candidates_cos.rename(\n",
    "    columns={\n",
    "        \"score\": \"cos_score\",\n",
    "        \"rank\": \"cos_rank\",\n",
    "    }\n",
    ")\n",
    "\n",
    "candidates_cos"
   ]
  },
  {
   "cell_type": "code",
   "execution_count": 14,
   "metadata": {},
   "outputs": [],
   "source": [
    "# Save Cosine Model candidates\n",
    "with open(candidates_data_path + \"candidates_cos.dill\", \"wb\") as f:\n",
    "    dill.dump(candidates_cos, f)"
   ]
  },
  {
   "cell_type": "markdown",
   "metadata": {},
   "source": [
    "### BM25 Recommender\n"
   ]
  },
  {
   "cell_type": "code",
   "execution_count": 15,
   "metadata": {},
   "outputs": [],
   "source": [
    "# BM25 Recommender\n",
    "with open(models_path + \"knn_impl_bm25_k50.dill\", \"rb\") as f:\n",
    "    knn_impl_bm25_k50 = dill.load(f)"
   ]
  },
  {
   "cell_type": "code",
   "execution_count": null,
   "metadata": {},
   "outputs": [],
   "source": [
    "candidates_bm25 = knn_impl_bm25_k50.recommend(\n",
    "    bNr2t_users,\n",
    "    current_dataset,\n",
    "    # выдаем 20 кандидатов\n",
    "    k=20,\n",
    "    # рекомендуем уже просмотренные товары\n",
    "    filter_viewed=False,\n",
    ")\n",
    "candidates_bm25 = candidates_bm25.rename(\n",
    "    columns={\n",
    "        \"score\": \"bm25_score\",\n",
    "        \"rank\": \"bm25_rank\",\n",
    "    }\n",
    ")\n",
    "candidates_bm25"
   ]
  },
  {
   "cell_type": "code",
   "execution_count": 17,
   "metadata": {},
   "outputs": [],
   "source": [
    "# Save BM25 Model candidates\n",
    "with open(candidates_data_path + \"candidates_bm25.dill\", \"wb\") as f:\n",
    "    dill.dump(candidates_bm25, f)"
   ]
  },
  {
   "cell_type": "markdown",
   "metadata": {},
   "source": [
    "### TFIDF Recommender\n"
   ]
  },
  {
   "cell_type": "code",
   "execution_count": 18,
   "metadata": {},
   "outputs": [],
   "source": [
    "# TFIDF Recommender\n",
    "with open(models_path + \"knn_impl_tfidf_k50.dill\", \"rb\") as f:\n",
    "    knn_impl_tfidf_k50 = dill.load(f)"
   ]
  },
  {
   "cell_type": "code",
   "execution_count": null,
   "metadata": {},
   "outputs": [],
   "source": [
    "candidates_tfidf = knn_impl_tfidf_k50.recommend(\n",
    "    bNr2t_users,\n",
    "    current_dataset,\n",
    "    # выдаем 20 кандидатов\n",
    "    k=20,\n",
    "    # рекомендуем уже просмотренные товары\n",
    "    filter_viewed=False,\n",
    ")\n",
    "candidates_tfidf = candidates_tfidf.rename(\n",
    "    columns={\n",
    "        \"score\": \"tfidf_score\",\n",
    "        \"rank\": \"tfidf_rank\",\n",
    "    }\n",
    ")\n",
    "candidates_tfidf"
   ]
  },
  {
   "cell_type": "code",
   "execution_count": 20,
   "metadata": {},
   "outputs": [],
   "source": [
    "# Save TFIDF Model candidates\n",
    "with open(candidates_data_path + \"candidates_tfidf.dill\", \"wb\") as f:\n",
    "    dill.dump(candidates_tfidf, f)"
   ]
  },
  {
   "cell_type": "markdown",
   "metadata": {},
   "source": [
    "### LightFM Recommender\n"
   ]
  },
  {
   "cell_type": "code",
   "execution_count": 21,
   "metadata": {},
   "outputs": [],
   "source": [
    "# LightFM Recommender\n",
    "with open(models_path + \"lfm_model.dill\", \"rb\") as f:\n",
    "    lfm_model = dill.load(f)"
   ]
  },
  {
   "cell_type": "code",
   "execution_count": null,
   "metadata": {},
   "outputs": [],
   "source": [
    "candidates_lfm = lfm_model.recommend(\n",
    "    bNr2t_users,\n",
    "    current_dataset,\n",
    "    # выдаем 20 кандидатов\n",
    "    k=20,\n",
    "    # рекомендуем уже просмотренные товары\n",
    "    filter_viewed=False,\n",
    ")\n",
    "candidates_lfm = candidates_lfm.rename(\n",
    "    columns={\n",
    "        \"score\": \"lfm_score\",\n",
    "        \"rank\": \"lfm_rank\",\n",
    "    }\n",
    ")\n",
    "candidates_lfm"
   ]
  },
  {
   "cell_type": "code",
   "execution_count": 23,
   "metadata": {},
   "outputs": [],
   "source": [
    "# Save LightFM Model candidates\n",
    "with open(candidates_data_path + \"candidates_lfm.dill\", \"wb\") as f:\n",
    "    dill.dump(candidates_lfm, f)"
   ]
  },
  {
   "cell_type": "markdown",
   "metadata": {},
   "source": [
    "# Сливаем всех кандидатов в одну таблицу"
   ]
  },
  {
   "cell_type": "code",
   "execution_count": 5,
   "metadata": {},
   "outputs": [],
   "source": [
    "models_path = \"../models/\""
   ]
  },
  {
   "cell_type": "code",
   "execution_count": 6,
   "metadata": {},
   "outputs": [],
   "source": [
    "candidates_data_path = models_path + \"candidates_data/\""
   ]
  },
  {
   "cell_type": "code",
   "execution_count": 7,
   "metadata": {},
   "outputs": [],
   "source": [
    "with open(candidates_data_path + \"candidates_cos.dill\", \"rb\") as f:\n",
    "    candidates_cos = dill.load(f)\n",
    "    candidates_cos = candidates_cos[candidates_cos[\"cos_rank\"] < 15]\n",
    "\n",
    "with open(candidates_data_path + \"candidates_bm25.dill\", \"rb\") as f:\n",
    "    candidates_bm25 = dill.load(f)\n",
    "    candidates_bm25 = candidates_bm25[candidates_bm25[\"bm25_rank\"] < 15]\n",
    "\n",
    "with open(candidates_data_path + \"candidates_tfidf.dill\", \"rb\") as f:\n",
    "    candidates_tfidf = dill.load(f)\n",
    "    candidates_tfidf = candidates_tfidf[candidates_tfidf[\"tfidf_rank\"] < 15]\n",
    "\n",
    "with open(candidates_data_path + \"candidates_lfm.dill\", \"rb\") as f:\n",
    "    candidates_lfm = dill.load(f)\n",
    "    candidates_lfm = candidates_lfm[candidates_lfm[\"lfm_rank\"] < 15]"
   ]
  },
  {
   "cell_type": "code",
   "execution_count": 8,
   "metadata": {},
   "outputs": [],
   "source": [
    "candidates_list = [\n",
    "    candidates_cos,\n",
    "    candidates_bm25,\n",
    "    candidates_tfidf,\n",
    "    candidates_lfm,\n",
    "]"
   ]
  },
  {
   "cell_type": "code",
   "execution_count": 9,
   "metadata": {},
   "outputs": [
    {
     "name": "stdout",
     "output_type": "stream",
     "text": [
      "(7564556, 4)\n",
      "(7564556, 4)\n",
      "(7564556, 4)\n",
      "(7573538, 4)\n"
     ]
    }
   ],
   "source": [
    "for df in candidates_list:\n",
    "    print(df.shape)"
   ]
  },
  {
   "cell_type": "markdown",
   "metadata": {},
   "source": [
    "## Concatenate"
   ]
  },
  {
   "cell_type": "code",
   "execution_count": 10,
   "metadata": {},
   "outputs": [],
   "source": [
    "candidates = candidates_list[0].copy()\n",
    "\n",
    "for df in candidates_list[1:]:\n",
    "    candidates = pd.concat(\n",
    "        [\n",
    "            candidates.set_index([\"user_id\", \"item_id\"]),\n",
    "            df.set_index([\"user_id\", \"item_id\"]),\n",
    "        ],\n",
    "        join=\"outer\",\n",
    "        axis=1,\n",
    "    ).reset_index()"
   ]
  },
  {
   "cell_type": "code",
   "execution_count": 11,
   "metadata": {},
   "outputs": [
    {
     "data": {
      "text/plain": [
       "(15969218, 10)"
      ]
     },
     "execution_count": 11,
     "metadata": {},
     "output_type": "execute_result"
    }
   ],
   "source": [
    "#Check shape\n",
    "candidates.shape"
   ]
  },
  {
   "cell_type": "code",
   "execution_count": null,
   "metadata": {},
   "outputs": [],
   "source": [
    "candidates.head(10)\n"
   ]
  },
  {
   "cell_type": "markdown",
   "metadata": {},
   "source": [
    "### Fill NaN"
   ]
  },
  {
   "cell_type": "code",
   "execution_count": 13,
   "metadata": {},
   "outputs": [],
   "source": [
    "default_values_merged = {\n",
    "    \"cos_score\": candidates[\"cos_score\"].min() - 0.01,\n",
    "    \"bm25_score\": candidates[\"bm25_score\"].min() - 0.01,\n",
    "    \"tfidf_score\": candidates[\"tfidf_score\"].min() - 0.01,\n",
    "    \"lfm_score\": candidates[\"lfm_score\"].min() - 0.01,\n",
    "    \"cos_rank\": candidates[\"cos_rank\"].max() + 1,\n",
    "    \"bm25_rank\": candidates[\"bm25_rank\"].max() + 1,\n",
    "    \"tfidf_rank\": candidates[\"tfidf_rank\"].max() + 1,\n",
    "    \"lfm_rank\": candidates[\"lfm_rank\"].max() + 1,\n",
    "}"
   ]
  },
  {
   "cell_type": "code",
   "execution_count": null,
   "metadata": {},
   "outputs": [],
   "source": [
    "candidates.fillna(default_values_merged, inplace=True)\n",
    "candidates.head(10)"
   ]
  },
  {
   "cell_type": "code",
   "execution_count": 15,
   "metadata": {},
   "outputs": [],
   "source": [
    "# Checkpoint\n",
    "with open(candidates_data_path + \"candidates_bNr_full.dill\", \"wb\") as f:\n",
    "    dill.dump(candidates, f)"
   ]
  },
  {
   "cell_type": "code",
   "execution_count": null,
   "metadata": {},
   "outputs": [],
   "source": []
  }
 ],
 "metadata": {
  "kernelspec": {
   "display_name": "recsys3.11",
   "language": "python",
   "name": "python3"
  },
  "language_info": {
   "codemirror_mode": {
    "name": "ipython",
    "version": 3
   },
   "file_extension": ".py",
   "mimetype": "text/x-python",
   "name": "python",
   "nbconvert_exporter": "python",
   "pygments_lexer": "ipython3",
   "version": "3.11.9"
  }
 },
 "nbformat": 4,
 "nbformat_minor": 2
}
