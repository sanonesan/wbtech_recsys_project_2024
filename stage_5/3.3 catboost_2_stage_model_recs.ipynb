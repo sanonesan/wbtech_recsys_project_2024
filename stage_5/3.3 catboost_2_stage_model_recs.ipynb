{
 "cells": [
  {
   "cell_type": "markdown",
   "metadata": {},
   "source": [
    "# Stage 5 (3.3 catboost_2_stage_model_recs)"
   ]
  },
  {
   "cell_type": "markdown",
   "metadata": {},
   "source": [
    "# Импортируем библиотеки"
   ]
  },
  {
   "cell_type": "code",
   "execution_count": 1,
   "metadata": {},
   "outputs": [],
   "source": [
    "import warnings\n",
    "\n",
    "\n",
    "# ----------------\n",
    "# Data processing\n",
    "# ----------------\n",
    "import dill\n",
    "\n",
    "import numpy as np\n",
    "import pandas as pd\n",
    "\n",
    "from tqdm.auto import tqdm\n",
    "\n",
    "\n",
    "# ---------------------\n",
    "# RecSys models imports\n",
    "# ---------------------\n",
    "\n",
    "from catboost import CatBoostRanker, Pool\n",
    "\n",
    "\n",
    "# -------------------\n",
    "# Utils\n",
    "# -------------------\n",
    "from utils import get_catboost_group_id, add_score_and_rank\n",
    "\n",
    "\n",
    "warnings.filterwarnings(\"ignore\")\n",
    "\n",
    "RANDOM_STATE = 42"
   ]
  },
  {
   "cell_type": "markdown",
   "metadata": {},
   "source": [
    "# Импортируем пути"
   ]
  },
  {
   "cell_type": "code",
   "execution_count": 2,
   "metadata": {},
   "outputs": [],
   "source": [
    "data_path = \"../data_closed/\""
   ]
  },
  {
   "cell_type": "code",
   "execution_count": 3,
   "metadata": {},
   "outputs": [],
   "source": [
    "models_path = \"../models/\""
   ]
  },
  {
   "cell_type": "code",
   "execution_count": 4,
   "metadata": {},
   "outputs": [],
   "source": [
    "candidates_data_path = models_path + \"candidates_data/\""
   ]
  },
  {
   "cell_type": "markdown",
   "metadata": {},
   "source": [
    "# CatBoost Ranker\n"
   ]
  },
  {
   "cell_type": "code",
   "execution_count": 5,
   "metadata": {},
   "outputs": [],
   "source": [
    "# Убираем таргет, айдишники\n",
    "# и данные, на которых обучались модели первого уровня\n",
    "FEATURES = [\n",
    "    \"cos_score\",\n",
    "    \"cos_rank\",\n",
    "    \"bm25_score\",\n",
    "    \"bm25_rank\",\n",
    "    \"tfidf_score\",\n",
    "    \"tfidf_rank\",\n",
    "    \"lfm_score\",\n",
    "    \"lfm_rank\",\n",
    "    \"user_hist\",\n",
    "    \"user_avg_pop\",\n",
    "    \"user_last_pop\",\n",
    "    \"title_len\",\n",
    "    \"descr_len\",\n",
    "    \"title_word_len\",\n",
    "    \"descr_word_len\",\n",
    "    \"txt_emb_pca_0\",\n",
    "    \"txt_emb_pca_1\",\n",
    "    \"txt_emb_pca_2\",\n",
    "    \"txt_emb_pca_3\",\n",
    "    \"txt_emb_pca_4\",\n",
    "    \"txt_emb_pca_5\",\n",
    "    \"txt_emb_pca_6\",\n",
    "    \"txt_emb_pca_7\",\n",
    "    \"txt_emb_pca_8\",\n",
    "    \"txt_emb_pca_9\",\n",
    "    \"brand\",\n",
    "    \"color\",\n",
    "    \"closure\",\n",
    "    \"country\",\n",
    "    \"cut\",\n",
    "    \"height\",\n",
    "    \"length\",\n",
    "    \"material\",\n",
    "    \"model\",\n",
    "    \"neckline\",\n",
    "    \"pattern\",\n",
    "    \"pocket\",\n",
    "    \"purpose\",\n",
    "    \"sleeve\",\n",
    "    \"img_pca_0\",\n",
    "    \"img_pca_1\",\n",
    "    \"img_pca_2\",\n",
    "    \"img_pca_3\",\n",
    "    \"img_pca_4\",\n",
    "    \"img_pca_5\",\n",
    "    \"img_pca_6\",\n",
    "    \"img_pca_7\",\n",
    "    \"img_pca_8\",\n",
    "    \"img_pca_9\",\n",
    "    \"item_pop\",\n",
    "    \"item_avg_hist\",\n",
    "]\n",
    "# Из cols следующие фитчи категориальные\n",
    "CATEGORIAL_FEATURES = [\n",
    "    \"brand\",\n",
    "    \"color\",\n",
    "    \"closure\",\n",
    "    \"country\",\n",
    "    \"cut\",\n",
    "    \"height\",\n",
    "    \"length\",\n",
    "    \"material\",\n",
    "    \"model\",\n",
    "    \"neckline\",\n",
    "    \"pattern\",\n",
    "    \"pocket\",\n",
    "    \"purpose\",\n",
    "    \"sleeve\",\n",
    "]\n",
    "\n",
    "FEATURES_FOR_ANALYSIS = [\n",
    "    \"user_id\",\n",
    "    \"item_id\",\n",
    "    \"user_hist\",\n",
    "    \"user_avg_pop\",\n",
    "    \"user_last_pop\",\n",
    "    \"title_len\",\n",
    "    \"descr_len\",\n",
    "    \"title_word_len\",\n",
    "    \"descr_word_len\",\n",
    "    \"brand\",\n",
    "    \"color\",\n",
    "    \"closure\",\n",
    "    \"country\",\n",
    "    \"cut\",\n",
    "    \"height\",\n",
    "    \"length\",\n",
    "    \"material\",\n",
    "    \"model\",\n",
    "    \"neckline\",\n",
    "    \"pattern\",\n",
    "    \"pocket\",\n",
    "    \"purpose\",\n",
    "    \"sleeve\",\n",
    "    \"item_pop\",\n",
    "    \"item_avg_hist\",\n",
    "    # Next features will be added\n",
    "    # after prediction and calculation of model's rank and score\n",
    "    # \"listwise_hybrid_score\",\n",
    "    # \"listwise_hybrid_rank\",\n",
    "]"
   ]
  },
  {
   "cell_type": "markdown",
   "metadata": {},
   "source": [
    "## Load "
   ]
  },
  {
   "cell_type": "code",
   "execution_count": 15,
   "metadata": {},
   "outputs": [],
   "source": [
    "# Загрузим listwise_model\n",
    "with open(models_path + \"CB_ranker_model.dill\", \"rb\") as f:\n",
    "    model = dill.load(f)\n",
    "\n",
    "# Загрузим listwise_model\n",
    "with open(data_path + \"ranker_train.dill\", \"rb\") as f:\n",
    "    valid_items = dill.load(f)[\"item_id\"].unique()"
   ]
  },
  {
   "cell_type": "code",
   "execution_count": 7,
   "metadata": {},
   "outputs": [
    {
     "data": {
      "text/plain": [
       "{'iterations': 3500,\n",
       " 'learning_rate': 0.07,\n",
       " 'loss_function': 'YetiRank',\n",
       " 'verbose': 16,\n",
       " 'custom_metric': ['NDCG:top=10', 'NDCG:top=15', 'NDCG:top=5', 'NDCG:top=3'],\n",
       " 'task_type': 'GPU',\n",
       " 'max_depth': 6,\n",
       " 'random_state': 42,\n",
       " 'reg_lambda': 0.9,\n",
       " 'objective': 'YetiRank',\n",
       " 'early_stopping_rounds': 32,\n",
       " 'grow_policy': 'Lossguide',\n",
       " 'min_child_samples': 100,\n",
       " 'num_leaves': 24}"
      ]
     },
     "execution_count": 7,
     "metadata": {},
     "output_type": "execute_result"
    }
   ],
   "source": [
    "model.get_params()"
   ]
  },
  {
   "cell_type": "markdown",
   "metadata": {},
   "source": [
    "## Выдаем рекомендации\n"
   ]
  },
  {
   "cell_type": "code",
   "execution_count": 18,
   "metadata": {},
   "outputs": [
    {
     "data": {
      "application/vnd.jupyter.widget-view+json": {
       "model_id": "50a3ab16b79c410a8ce5df64ae81782e",
       "version_major": 2,
       "version_minor": 0
      },
      "text/plain": [
       "  0%|          | 0/4 [00:00<?, ?it/s]"
      ]
     },
     "metadata": {},
     "output_type": "display_data"
    }
   ],
   "source": [
    "for i in tqdm([0, 20, 40, 60, 80]):\n",
    "\n",
    "    # Load data\n",
    "    with open(data_path + f\"ranker_test_bNr_{i}.dill\", \"rb\") as f:\n",
    "        ranker_test = dill.load(f)\n",
    "        ranker_test = ranker_test[ranker_test[\"item_id\"].isin(valid_items)]\n",
    "        for cat in CATEGORIAL_FEATURES:\n",
    "            ranker_test[cat] = ranker_test[cat].astype(int)\n",
    "\n",
    "    # create test pool\n",
    "    test_pool = Pool(\n",
    "        data=ranker_test[FEATURES],\n",
    "        group_id=get_catboost_group_id(ranker_test),\n",
    "        cat_features=CATEGORIAL_FEATURES,\n",
    "    )\n",
    "\n",
    "    # Get predictions\n",
    "    y_pred: np.ndarray = model.predict(test_pool)\n",
    "\n",
    "    # Add scores and ranks\n",
    "    ranker_test = add_score_and_rank(ranker_test, y_pred, \"listwise\")\n",
    "\n",
    "    # Dump listwise_model predictions for users\n",
    "    with open(candidates_data_path + f\"CB_ranker_predictions_bNr_{i}.dill\", \"wb\") as f:\n",
    "        dill.dump(ranker_test[FEATURES_FOR_ANALYSIS], f)"
   ]
  },
  {
   "cell_type": "code",
   "execution_count": null,
   "metadata": {},
   "outputs": [],
   "source": []
  }
 ],
 "metadata": {
  "kernelspec": {
   "display_name": "recsys3.11",
   "language": "python",
   "name": "python3"
  },
  "language_info": {
   "codemirror_mode": {
    "name": "ipython",
    "version": 3
   },
   "file_extension": ".py",
   "mimetype": "text/x-python",
   "name": "python",
   "nbconvert_exporter": "python",
   "pygments_lexer": "ipython3",
   "version": "3.11.9"
  }
 },
 "nbformat": 4,
 "nbformat_minor": 2
}
