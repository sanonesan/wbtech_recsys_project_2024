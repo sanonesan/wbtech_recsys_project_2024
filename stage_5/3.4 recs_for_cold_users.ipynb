{
 "cells": [
  {
   "cell_type": "markdown",
   "metadata": {},
   "source": [
    "# Stage 5 (3.4 recs_for_cold_users)\n"
   ]
  },
  {
   "cell_type": "markdown",
   "metadata": {},
   "source": [
    "# Импортируем библиотеки"
   ]
  },
  {
   "cell_type": "code",
   "execution_count": 1,
   "metadata": {},
   "outputs": [],
   "source": [
    "import warnings\n",
    "\n",
    "import dill\n",
    "\n",
    "import numpy as np\n",
    "import pandas as pd\n",
    "\n",
    "\n",
    "from rectools import Columns\n",
    "from rectools.dataset import Dataset as RTDataset\n",
    "\n",
    "from rectools.models import (\n",
    "    PopularModel,\n",
    ")\n",
    "from mab2rec import BanditRecommender\n",
    "\n",
    "\n",
    "from tqdm.auto import tqdm\n",
    "\n",
    "from popular_bandit import PopularBanditRecommender\n",
    "from metrics import RecommenderMetrics\n",
    "\n",
    "\n",
    "warnings.filterwarnings(\"ignore\")\n",
    "\n",
    "RANDOM_STATE = 42"
   ]
  },
  {
   "cell_type": "markdown",
   "metadata": {},
   "source": [
    "## Data paths"
   ]
  },
  {
   "cell_type": "code",
   "execution_count": 2,
   "metadata": {},
   "outputs": [],
   "source": [
    "data_path = \"../data_closed/\""
   ]
  },
  {
   "cell_type": "code",
   "execution_count": 3,
   "metadata": {},
   "outputs": [],
   "source": [
    "models_path = \"../models/\""
   ]
  },
  {
   "cell_type": "code",
   "execution_count": 4,
   "metadata": {},
   "outputs": [],
   "source": [
    "candidates_data_path = models_path + \"candidates_data/\""
   ]
  },
  {
   "cell_type": "markdown",
   "metadata": {},
   "source": [
    "# Load Data & create Rectools Dataset"
   ]
  },
  {
   "cell_type": "code",
   "execution_count": 5,
   "metadata": {},
   "outputs": [
    {
     "data": {
      "text/plain": [
       "(array([4194307, 3145732, 4194309, ..., 1048568, 2097148, 4194301]), (542353,))"
      ]
     },
     "execution_count": 5,
     "metadata": {},
     "output_type": "execute_result"
    }
   ],
   "source": [
    "# Холодные пользователи из test_df, которым будут выданы\n",
    "# рекомондации с помощью bandit recommender\n",
    "with open(data_path + \"test_only_users.dill\", \"rb\") as f:\n",
    "    test_only_users = dill.load(f)\n",
    "\n",
    "test_only_users, test_only_users.shape"
   ]
  },
  {
   "cell_type": "code",
   "execution_count": 6,
   "metadata": {},
   "outputs": [],
   "source": [
    "with (\n",
    "    # Загружаем таблицу данных для моделей первого уровня\n",
    "    open(data_path + \"base_models_data.dill\", \"rb\") as base_f,\n",
    "    # Загружаем таблицу данных для ранкера\n",
    "    open(data_path + \"ranker_data.dill\", \"rb\") as ranker_f,\n",
    "):\n",
    "\n",
    "    # # Сохраняем в отдельную переменную, т.к. нужно дообучить бандита\n",
    "    mab_data = dill.load(ranker_f)\n",
    "\n",
    "    # Создадим датасет взаимодействий для обучения TopPopular model\n",
    "    current_dataset = RTDataset.construct(\n",
    "        interactions_df=pd.concat(\n",
    "            [\n",
    "                dill.load(base_f)[[\"user_id\", \"item_id\", \"dt\", \"cum_weight\"]],\n",
    "                mab_data[[\"user_id\", \"item_id\", \"dt\", \"cum_weight\"]],\n",
    "            ],\n",
    "            axis=0,\n",
    "        ).rename(\n",
    "            columns={\n",
    "                \"user_id\": Columns.User,\n",
    "                \"item_id\": Columns.Item,\n",
    "                \"dt\": Columns.Datetime,\n",
    "                \"cum_weight\": Columns.Weight,\n",
    "            }\n",
    "        )\n",
    "    )"
   ]
  },
  {
   "cell_type": "markdown",
   "metadata": {},
   "source": [
    "# BanditRecommender"
   ]
  },
  {
   "cell_type": "markdown",
   "metadata": {},
   "source": [
    "## До\n",
    "\n",
    "Бандит обучался следующим образом (ноутбук 1)"
   ]
  },
  {
   "cell_type": "code",
   "execution_count": null,
   "metadata": {},
   "outputs": [],
   "source": [
    "# mab_model = BanditRecommender(\n",
    "#     LearningPolicy.ThompsonSampling(),\n",
    "#     top_k=10,\n",
    "#     n_jobs=-1,\n",
    "# )"
   ]
  },
  {
   "cell_type": "code",
   "execution_count": null,
   "metadata": {},
   "outputs": [],
   "source": [
    "# # Загружаем таблицу данных для моделей первого уровня\n",
    "# with open(data_path + \"base_models_data.dill\", \"rb\") as f:\n",
    "#     base_models_data = dill.load(f)"
   ]
  },
  {
   "cell_type": "code",
   "execution_count": null,
   "metadata": {},
   "outputs": [],
   "source": [
    "# mab_data = base_models_data[base_models_data[\"user_id\"].isin(b2r_users)]\n",
    "# mab_data = mab_data[(mab_data[\"u_total_inter\"] > 20)]\n",
    "# mab_data[\"binary_weight\"] = (mab_data[\"ui_inter\"] > 2).astype(int)\n",
    "# mab_data = mab_data[\n",
    "#     [\n",
    "#         \"user_id\",\n",
    "#         \"item_id\",\n",
    "#         \"dt\",\n",
    "#         \"binary_weight\",\n",
    "#     ]\n",
    "# ]\n",
    "# mab_data"
   ]
  },
  {
   "cell_type": "code",
   "execution_count": null,
   "metadata": {},
   "outputs": [
    {
     "name": "stdout",
     "output_type": "stream",
     "text": [
      "Fitted: 2024-10-10 00:00:01, 2024-10-10 01:30:01\n",
      "Fitted: 2024-10-10 01:30:01, 2024-10-10 03:00:01\n",
      "Fitted: 2024-10-10 03:00:01, 2024-10-10 04:30:01\n",
      "Fitted: 2024-10-10 04:30:01, 2024-10-10 06:00:01\n",
      "Fitted: 2024-10-10 06:00:01, 2024-10-10 07:30:01\n",
      "Fitted: 2024-10-10 07:30:01, 2024-10-10 09:00:01\n",
      "Fitted: 2024-10-10 09:00:01, 2024-10-10 10:30:01\n",
      "Fitted: 2024-10-10 10:30:01, 2024-10-10 12:00:01\n",
      "Fitted: 2024-10-10 12:00:01, 2024-10-10 13:30:01\n",
      "Fitted: 2024-10-10 13:30:01, 2024-10-10 15:00:01\n",
      "Fitted: 2024-10-10 15:00:01, 2024-10-10 16:30:01\n",
      "Fitted: 2024-10-10 16:30:01, 2024-10-10 18:00:01\n",
      "Fitted: 2024-10-10 18:00:01, 2024-10-10 19:30:01\n",
      "Fitted: 2024-10-10 19:30:01, 2024-10-10 21:00:01\n",
      "Fitted: 2024-10-10 21:00:01, 2024-10-10 22:30:01\n",
      "Fitted: 2024-10-10 22:30:01, 2024-10-11 00:00:01\n",
      "Fitted: 2024-10-11 00:00:01, 2024-10-11 01:30:01\n",
      "Fitted: 2024-10-11 01:30:01, 2024-10-11 03:00:01\n",
      "Fitted: 2024-10-11 03:00:01, 2024-10-11 04:30:01\n",
      "Fitted: 2024-10-11 04:30:01, 2024-10-11 06:00:01\n",
      "Fitted: 2024-10-11 06:00:01, 2024-10-11 07:30:01\n",
      "Fitted: 2024-10-11 07:30:01, 2024-10-11 09:00:01\n"
     ]
    }
   ],
   "source": [
    "# time_windows = []\n",
    "# min_date = mab_data[\"dt\"].min()\n",
    "# max_date = mab_data[\"dt\"].max()\n",
    "\n",
    "\n",
    "# cur_min = min_date\n",
    "# left, right = cur_min, cur_min + pd.Timedelta(hours=1.5)\n",
    "# chunk = mab_data[mab_data[\"dt\"].between(left, right, inclusive=\"left\")]\n",
    "\n",
    "# mab_model.fit(\n",
    "#     decisions=chunk[\"item_id\"],\n",
    "#     rewards=chunk[\"binary_weight\"],\n",
    "# )\n",
    "\n",
    "# print(f\"Fitted: {left}, {right}\")\n",
    "\n",
    "# cur_min = right\n",
    "\n",
    "# while right <= max_date:\n",
    "#     left, right = cur_min, cur_min + pd.Timedelta(hours=1.5)\n",
    "#     chunk = mab_data[mab_data[\"dt\"].between(left, right, inclusive=\"left\")]\n",
    "#     mab_model.partial_fit(\n",
    "#         decisions=chunk[\"item_id\"],\n",
    "#         rewards=chunk[\"binary_weight\"],\n",
    "#     )\n",
    "#     cur_min = right\n",
    "#     print(f\"Fitted: {left}, {right}\")\n"
   ]
  },
  {
   "cell_type": "markdown",
   "metadata": {},
   "source": [
    "## Теперь\n",
    "\n",
    "Необходимо дообучить бандита на свежих данных (данные из ranker_data) "
   ]
  },
  {
   "cell_type": "code",
   "execution_count": 7,
   "metadata": {},
   "outputs": [],
   "source": [
    "with open(models_path + \"mab_model.dill\", \"rb\") as f:\n",
    "    mab_model: BanditRecommender = dill.load(f)"
   ]
  },
  {
   "cell_type": "code",
   "execution_count": null,
   "metadata": {},
   "outputs": [],
   "source": [
    "mab_data = mab_data[(mab_data[\"u_total_inter\"] > 25)]\n",
    "mab_data[\"binary_weight\"] = (mab_data[\"ui_inter\"] > 2).astype(int)\n",
    "mab_data = mab_data[\n",
    "    [\n",
    "        \"user_id\",\n",
    "        \"item_id\",\n",
    "        \"dt\",\n",
    "        \"binary_weight\",\n",
    "    ]\n",
    "]"
   ]
  },
  {
   "cell_type": "code",
   "execution_count": 18,
   "metadata": {},
   "outputs": [
    {
     "name": "stdout",
     "output_type": "stream",
     "text": [
      "Fitted: 2024-10-11 07:59:58, 2024-10-11 09:29:58\n",
      "Fitted: 2024-10-11 09:29:58, 2024-10-11 10:59:58\n",
      "Fitted: 2024-10-11 10:59:58, 2024-10-11 12:29:58\n",
      "Fitted: 2024-10-11 12:29:58, 2024-10-11 13:59:58\n",
      "Fitted: 2024-10-11 13:59:58, 2024-10-11 15:29:58\n",
      "Fitted: 2024-10-11 15:29:58, 2024-10-11 16:59:58\n"
     ]
    }
   ],
   "source": [
    "min_date = mab_data[\"dt\"].min()\n",
    "max_date = mab_data[\"dt\"].max()\n",
    "\n",
    "\n",
    "cur_min = min_date\n",
    "right = min_date\n",
    "\n",
    "while right <= max_date:\n",
    "    left, right = cur_min, cur_min + pd.Timedelta(hours=1.5)\n",
    "    chunk = mab_data[mab_data[\"dt\"].between(left, right, inclusive=\"left\")][\n",
    "        [\"item_id\", \"binary_weight\"]\n",
    "    ]\n",
    "    mab_model.partial_fit(\n",
    "        decisions=chunk[\"item_id\"],\n",
    "        rewards=chunk[\"binary_weight\"],\n",
    "    )\n",
    "    cur_min = right\n",
    "    print(f\"Fitted: {left}, {right}\")"
   ]
  },
  {
   "cell_type": "markdown",
   "metadata": {},
   "source": [
    "> Видимые накладки и несовпадения в выводе времени --- только результат реализации самого вывода, внутри все даты верные."
   ]
  },
  {
   "cell_type": "code",
   "execution_count": 29,
   "metadata": {},
   "outputs": [],
   "source": [
    "# Save model\n",
    "with open(models_path + \"mab_model.dill\", \"wb\") as f:\n",
    "    dill.dump(mab_model, f)"
   ]
  },
  {
   "cell_type": "markdown",
   "metadata": {},
   "source": [
    "# Rectools PopularModel"
   ]
  },
  {
   "cell_type": "code",
   "execution_count": 30,
   "metadata": {},
   "outputs": [],
   "source": [
    "# Train popular model on newer data\n",
    "popular_model = PopularModel()\n",
    "\n",
    "popular_model.fit(current_dataset)\n",
    "\n",
    "# Save model\n",
    "with open(models_path + \"popular_model.dill\", \"wb\") as f:\n",
    "    dill.dump(popular_model, f)"
   ]
  },
  {
   "cell_type": "markdown",
   "metadata": {},
   "source": [
    "# PopularBanditRecommender"
   ]
  },
  {
   "cell_type": "code",
   "execution_count": 7,
   "metadata": {},
   "outputs": [],
   "source": [
    "knn_bandit_model = PopularBanditRecommender(\n",
    "    dataset=current_dataset,\n",
    "    path_bandit_model=models_path + \"mab_model.dill\",\n",
    "    path_popular_model=models_path + \"popular_model.dill\",\n",
    "    top_k=15,\n",
    ")"
   ]
  },
  {
   "cell_type": "markdown",
   "metadata": {},
   "source": [
    "## Predictions"
   ]
  },
  {
   "cell_type": "code",
   "execution_count": 8,
   "metadata": {},
   "outputs": [
    {
     "data": {
      "application/vnd.jupyter.widget-view+json": {
       "model_id": "75c6351bce474dcfa3501b7ea2bb1488",
       "version_major": 2,
       "version_minor": 0
      },
      "text/plain": [
       "  0%|          | 0/100 [00:00<?, ?it/s]"
      ]
     },
     "metadata": {},
     "output_type": "display_data"
    },
    {
     "data": {
      "application/vnd.jupyter.widget-view+json": {
       "model_id": "108069ced483452b8050b41ed941532c",
       "version_major": 2,
       "version_minor": 0
      },
      "text/plain": [
       "  0%|          | 0/100 [00:00<?, ?it/s]"
      ]
     },
     "metadata": {},
     "output_type": "display_data"
    }
   ],
   "source": [
    "candidates_mab = knn_bandit_model.predict(\n",
    "    test_only_users,\n",
    "    pop_k=50,\n",
    "    pre_gen_recs=True,\n",
    "    pre_gen_n=100,\n",
    ")"
   ]
  },
  {
   "cell_type": "code",
   "execution_count": 9,
   "metadata": {},
   "outputs": [],
   "source": [
    "# Save candidates\n",
    "with open(candidates_data_path + \"candidates_mab.dill\", \"wb\") as f:\n",
    "    dill.dump(candidates_mab, f)"
   ]
  },
  {
   "cell_type": "markdown",
   "metadata": {},
   "source": [
    "## Check metrics (even if predicitons are pretty random)"
   ]
  },
  {
   "cell_type": "code",
   "execution_count": 10,
   "metadata": {},
   "outputs": [],
   "source": [
    "predictions = (\n",
    "    candidates_mab[[\"user_id\", \"item_id\"]]\n",
    "    .groupby(by=\"user_id\")[\"item_id\"]\n",
    "    .apply(list)\n",
    "    .reset_index()\n",
    "    .rename(columns={\"item_id\": \"mab_recs\"})\n",
    ")"
   ]
  },
  {
   "cell_type": "code",
   "execution_count": 11,
   "metadata": {},
   "outputs": [],
   "source": [
    "# Загружаем таблицу test_df\n",
    "with open(data_path + \"test_df.dill\", \"rb\") as f:\n",
    "    test_df = dill.load(f)\n"
   ]
  },
  {
   "cell_type": "code",
   "execution_count": 12,
   "metadata": {},
   "outputs": [],
   "source": [
    "test_df = pd.merge(\n",
    "    test_df[test_df[\"user_id\"].isin(predictions[\"user_id\"].unique())],\n",
    "    predictions,\n",
    "    how=\"left\",\n",
    "    on=\"user_id\",\n",
    ")"
   ]
  },
  {
   "cell_type": "code",
   "execution_count": 13,
   "metadata": {},
   "outputs": [
    {
     "name": "stdout",
     "output_type": "stream",
     "text": [
      "k = 3: {'ndcg@k': 0.0, 'recall@k': 0.0, 'map@k': 0.0}\n",
      "\n",
      "k = 5: {'ndcg@k': 0.0018428883314870617, 'recall@k': 0.0002127659574468085, 'map@k': 0.0005}\n",
      "\n",
      "k = 10: {'ndcg@k': 0.0038976312448204408, 'recall@k': 0.0005404744436292492, 'map@k': 0.000575}\n",
      "\n",
      "k = 15: {'ndcg@k': 0.004621466265233239, 'recall@k': 0.0009660063585228662, 'map@k': 0.000703968253968254}\n",
      "\n"
     ]
    }
   ],
   "source": [
    "for k in [3, 5, 10, 15]:\n",
    "    print(\n",
    "        f\"\"\"k = {k}: {RecommenderMetrics.evaluate_recommender(\n",
    "            test_df, model_preds_col=\"mab_recs\", k=k\n",
    "        )}\\n\"\"\"\n",
    "    )"
   ]
  },
  {
   "cell_type": "markdown",
   "metadata": {},
   "source": [
    "k = 3: {'ndcg@k': 0.0, 'recall@k': 0.0, 'map@k': 0.0}\n",
    "\n",
    "k = 5: {'ndcg@k': 0.0018428883314870617, 'recall@k': 0.0002127659574468085, 'map@k': 0.0005}\n",
    "\n",
    "k = 10: {'ndcg@k': 0.0038976312448204408, 'recall@k': 0.0005404744436292492, 'map@k': 0.000575}\n",
    "\n",
    "k = 15: {'ndcg@k': 0.004621466265233239, 'recall@k': 0.0009660063585228662, 'map@k': 0.000703968253968254}"
   ]
  }
 ],
 "metadata": {
  "kernelspec": {
   "display_name": "recsys3.11",
   "language": "python",
   "name": "python3"
  },
  "language_info": {
   "codemirror_mode": {
    "name": "ipython",
    "version": 3
   },
   "file_extension": ".py",
   "mimetype": "text/x-python",
   "name": "python",
   "nbconvert_exporter": "python",
   "pygments_lexer": "ipython3",
   "version": "3.11.9"
  }
 },
 "nbformat": 4,
 "nbformat_minor": 2
}
